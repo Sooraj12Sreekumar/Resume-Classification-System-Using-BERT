{
 "cells": [
  {
   "cell_type": "code",
   "execution_count": 1,
   "id": "a17c08b6",
   "metadata": {},
   "outputs": [],
   "source": [
    "import os\n",
    "import csv\n",
    "import pandas as pd"
   ]
  },
  {
   "cell_type": "code",
   "execution_count": 5,
   "id": "e7a1e4f5",
   "metadata": {},
   "outputs": [],
   "source": [
    "def txt_files_to_csv(input_folder, output_path):\n",
    "\n",
    "    os.makedirs(os.path.dirname(output_path), exist_ok=True)\n",
    "    \n",
    "    with open(output_path, 'w', newline='', encoding='utf-8') as csvfile:\n",
    "        writer = csv.writer(csvfile)\n",
    "\n",
    "        writer.writerow(['filename', 'content'])\n",
    "        \n",
    "        for filename in os.listdir(input_folder):\n",
    "            if filename.endswith('.txt'):\n",
    "                file_path = os.path.join(input_folder, filename)\n",
    "                try:\n",
    "                    with open(file_path, 'r', encoding='utf-8') as txtfile:\n",
    "                        content = txtfile.read()\n",
    "                        writer.writerow([filename, content])\n",
    "                except Exception as e:\n",
    "                    print(f\"Error processing {filename}: {str(e)}\")\n",
    "    \n",
    "    print(f\"CSV file created successfully at {output_path}\")"
   ]
  },
  {
   "cell_type": "code",
   "execution_count": 6,
   "id": "cad45d73",
   "metadata": {},
   "outputs": [
    {
     "name": "stdout",
     "output_type": "stream",
     "text": [
      "CSV file created successfully at ..\\data\\processed\\synthetic_dataset.csv\n"
     ]
    }
   ],
   "source": [
    "input_folder = os.path.join('..','data', 'raw', 'synthetic_data')\n",
    "output_path = os.path.join('..', 'data', 'processed', 'synthetic_dataset.csv')\n",
    "txt_files_to_csv(input_folder, output_path)"
   ]
  },
  {
   "cell_type": "markdown",
   "id": "7b23c0fc",
   "metadata": {},
   "source": [
    "Changing Column Names"
   ]
  },
  {
   "cell_type": "code",
   "execution_count": 2,
   "id": "1e2f1879",
   "metadata": {},
   "outputs": [],
   "source": [
    "df = pd.read_csv(r'D:\\Resume Classification System\\data\\processed\\synthetic_dataset.csv')"
   ]
  },
  {
   "cell_type": "code",
   "execution_count": 8,
   "id": "a7dd201c",
   "metadata": {},
   "outputs": [
    {
     "data": {
      "text/html": [
       "<div>\n",
       "<style scoped>\n",
       "    .dataframe tbody tr th:only-of-type {\n",
       "        vertical-align: middle;\n",
       "    }\n",
       "\n",
       "    .dataframe tbody tr th {\n",
       "        vertical-align: top;\n",
       "    }\n",
       "\n",
       "    .dataframe thead th {\n",
       "        text-align: right;\n",
       "    }\n",
       "</style>\n",
       "<table border=\"1\" class=\"dataframe\">\n",
       "  <thead>\n",
       "    <tr style=\"text-align: right;\">\n",
       "      <th></th>\n",
       "      <th>filename</th>\n",
       "      <th>content</th>\n",
       "    </tr>\n",
       "  </thead>\n",
       "  <tbody>\n",
       "    <tr>\n",
       "      <th>0</th>\n",
       "      <td>AI_Engineer_Resume_1.txt</td>\n",
       "      <td>Name: Eleanor Vance\\n\\nSummary:\\nHighly motiva...</td>\n",
       "    </tr>\n",
       "    <tr>\n",
       "      <th>1</th>\n",
       "      <td>AI_Engineer_Resume_10.txt</td>\n",
       "      <td>JOHN SMITH\\n(123) 456-7890 | john.smith@email....</td>\n",
       "    </tr>\n",
       "    <tr>\n",
       "      <th>2</th>\n",
       "      <td>AI_Engineer_Resume_100.txt</td>\n",
       "      <td>[Name] Anya Sharma\\n[Phone] (555) 123-4567\\n[E...</td>\n",
       "    </tr>\n",
       "    <tr>\n",
       "      <th>3</th>\n",
       "      <td>AI_Engineer_Resume_11.txt</td>\n",
       "      <td>Jane Doe\\n(123) 456-7890 | jane.doe@email.com ...</td>\n",
       "    </tr>\n",
       "    <tr>\n",
       "      <th>4</th>\n",
       "      <td>AI_Engineer_Resume_12.txt</td>\n",
       "      <td>Jane Doe\\n(123) 456-7890 | jane.doe@email.com ...</td>\n",
       "    </tr>\n",
       "  </tbody>\n",
       "</table>\n",
       "</div>"
      ],
      "text/plain": [
       "                     filename  \\\n",
       "0    AI_Engineer_Resume_1.txt   \n",
       "1   AI_Engineer_Resume_10.txt   \n",
       "2  AI_Engineer_Resume_100.txt   \n",
       "3   AI_Engineer_Resume_11.txt   \n",
       "4   AI_Engineer_Resume_12.txt   \n",
       "\n",
       "                                             content  \n",
       "0  Name: Eleanor Vance\\n\\nSummary:\\nHighly motiva...  \n",
       "1  JOHN SMITH\\n(123) 456-7890 | john.smith@email....  \n",
       "2  [Name] Anya Sharma\\n[Phone] (555) 123-4567\\n[E...  \n",
       "3  Jane Doe\\n(123) 456-7890 | jane.doe@email.com ...  \n",
       "4  Jane Doe\\n(123) 456-7890 | jane.doe@email.com ...  "
      ]
     },
     "execution_count": 8,
     "metadata": {},
     "output_type": "execute_result"
    }
   ],
   "source": [
    "df.head()"
   ]
  },
  {
   "cell_type": "code",
   "execution_count": 9,
   "id": "d5adeee6",
   "metadata": {},
   "outputs": [
    {
     "data": {
      "text/html": [
       "<div>\n",
       "<style scoped>\n",
       "    .dataframe tbody tr th:only-of-type {\n",
       "        vertical-align: middle;\n",
       "    }\n",
       "\n",
       "    .dataframe tbody tr th {\n",
       "        vertical-align: top;\n",
       "    }\n",
       "\n",
       "    .dataframe thead th {\n",
       "        text-align: right;\n",
       "    }\n",
       "</style>\n",
       "<table border=\"1\" class=\"dataframe\">\n",
       "  <thead>\n",
       "    <tr style=\"text-align: right;\">\n",
       "      <th></th>\n",
       "      <th>filename</th>\n",
       "      <th>content</th>\n",
       "    </tr>\n",
       "  </thead>\n",
       "  <tbody>\n",
       "    <tr>\n",
       "      <th>512</th>\n",
       "      <td>resume_75.txt</td>\n",
       "      <td>JANE DOE\\n(123) 456-7890 | jane.doe@email.com ...</td>\n",
       "    </tr>\n",
       "    <tr>\n",
       "      <th>513</th>\n",
       "      <td>resume_76.txt</td>\n",
       "      <td>JOHN DOE\\n(555) 123-4567 | john.doe@email.com ...</td>\n",
       "    </tr>\n",
       "    <tr>\n",
       "      <th>514</th>\n",
       "      <td>resume_77.txt</td>\n",
       "      <td>JOHN DOE\\n(123) 456-7890 | john.doe@email.com ...</td>\n",
       "    </tr>\n",
       "    <tr>\n",
       "      <th>515</th>\n",
       "      <td>resume_8.txt</td>\n",
       "      <td>NAME: Jane Doe\\nPHONE: (555) 123-4567\\nEMAIL: ...</td>\n",
       "    </tr>\n",
       "    <tr>\n",
       "      <th>516</th>\n",
       "      <td>resume_9.txt</td>\n",
       "      <td>JANE DOE\\n(123) 456-7890 | jane.doe@email.com ...</td>\n",
       "    </tr>\n",
       "  </tbody>\n",
       "</table>\n",
       "</div>"
      ],
      "text/plain": [
       "          filename                                            content\n",
       "512  resume_75.txt  JANE DOE\\n(123) 456-7890 | jane.doe@email.com ...\n",
       "513  resume_76.txt  JOHN DOE\\n(555) 123-4567 | john.doe@email.com ...\n",
       "514  resume_77.txt  JOHN DOE\\n(123) 456-7890 | john.doe@email.com ...\n",
       "515   resume_8.txt  NAME: Jane Doe\\nPHONE: (555) 123-4567\\nEMAIL: ...\n",
       "516   resume_9.txt  JANE DOE\\n(123) 456-7890 | jane.doe@email.com ..."
      ]
     },
     "execution_count": 9,
     "metadata": {},
     "output_type": "execute_result"
    }
   ],
   "source": [
    "df.tail()"
   ]
  },
  {
   "cell_type": "code",
   "execution_count": 10,
   "id": "a62e7e41",
   "metadata": {},
   "outputs": [],
   "source": [
    "header = ['Category','Text']\n",
    "df.columns = header"
   ]
  },
  {
   "cell_type": "code",
   "execution_count": 11,
   "id": "827b4428",
   "metadata": {},
   "outputs": [
    {
     "data": {
      "text/html": [
       "<div>\n",
       "<style scoped>\n",
       "    .dataframe tbody tr th:only-of-type {\n",
       "        vertical-align: middle;\n",
       "    }\n",
       "\n",
       "    .dataframe tbody tr th {\n",
       "        vertical-align: top;\n",
       "    }\n",
       "\n",
       "    .dataframe thead th {\n",
       "        text-align: right;\n",
       "    }\n",
       "</style>\n",
       "<table border=\"1\" class=\"dataframe\">\n",
       "  <thead>\n",
       "    <tr style=\"text-align: right;\">\n",
       "      <th></th>\n",
       "      <th>Category</th>\n",
       "      <th>Text</th>\n",
       "    </tr>\n",
       "  </thead>\n",
       "  <tbody>\n",
       "    <tr>\n",
       "      <th>0</th>\n",
       "      <td>AI_Engineer_Resume_1.txt</td>\n",
       "      <td>Name: Eleanor Vance\\n\\nSummary:\\nHighly motiva...</td>\n",
       "    </tr>\n",
       "    <tr>\n",
       "      <th>1</th>\n",
       "      <td>AI_Engineer_Resume_10.txt</td>\n",
       "      <td>JOHN SMITH\\n(123) 456-7890 | john.smith@email....</td>\n",
       "    </tr>\n",
       "    <tr>\n",
       "      <th>2</th>\n",
       "      <td>AI_Engineer_Resume_100.txt</td>\n",
       "      <td>[Name] Anya Sharma\\n[Phone] (555) 123-4567\\n[E...</td>\n",
       "    </tr>\n",
       "    <tr>\n",
       "      <th>3</th>\n",
       "      <td>AI_Engineer_Resume_11.txt</td>\n",
       "      <td>Jane Doe\\n(123) 456-7890 | jane.doe@email.com ...</td>\n",
       "    </tr>\n",
       "    <tr>\n",
       "      <th>4</th>\n",
       "      <td>AI_Engineer_Resume_12.txt</td>\n",
       "      <td>Jane Doe\\n(123) 456-7890 | jane.doe@email.com ...</td>\n",
       "    </tr>\n",
       "  </tbody>\n",
       "</table>\n",
       "</div>"
      ],
      "text/plain": [
       "                     Category  \\\n",
       "0    AI_Engineer_Resume_1.txt   \n",
       "1   AI_Engineer_Resume_10.txt   \n",
       "2  AI_Engineer_Resume_100.txt   \n",
       "3   AI_Engineer_Resume_11.txt   \n",
       "4   AI_Engineer_Resume_12.txt   \n",
       "\n",
       "                                                Text  \n",
       "0  Name: Eleanor Vance\\n\\nSummary:\\nHighly motiva...  \n",
       "1  JOHN SMITH\\n(123) 456-7890 | john.smith@email....  \n",
       "2  [Name] Anya Sharma\\n[Phone] (555) 123-4567\\n[E...  \n",
       "3  Jane Doe\\n(123) 456-7890 | jane.doe@email.com ...  \n",
       "4  Jane Doe\\n(123) 456-7890 | jane.doe@email.com ...  "
      ]
     },
     "execution_count": 11,
     "metadata": {},
     "output_type": "execute_result"
    }
   ],
   "source": [
    "df.head()"
   ]
  },
  {
   "cell_type": "code",
   "execution_count": 12,
   "id": "3babc489",
   "metadata": {},
   "outputs": [],
   "source": [
    "df.to_csv(r'D:\\Resume Classification System\\data\\processed\\synthetic_dataset.csv')"
   ]
  },
  {
   "cell_type": "code",
   "execution_count": 18,
   "id": "e279459a",
   "metadata": {},
   "outputs": [],
   "source": [
    "category_mapping = {\n",
    "    'AI_Engineer_Resume_': 'AI Engineer',\n",
    "    'Computer_Vision_Engineer_Resume_': 'Computer Vision Engineer',\n",
    "    'Data_Analyst_Resume_': 'Data Analyst',\n",
    "    'resume_': 'Data Analyst',\n",
    "    'Data_Engineer_Resume_': 'Data Engineer',\n",
    "    'NLP_Engineer_Resume_': 'NLP Engineer'\n",
    "}"
   ]
  },
  {
   "cell_type": "code",
   "execution_count": 19,
   "id": "cf3c2be9",
   "metadata": {},
   "outputs": [],
   "source": [
    "def clean_category(text):\n",
    "    for pattern, category in category_mapping.items():\n",
    "        if str(text).startswith(pattern):\n",
    "            return category\n",
    "    return text"
   ]
  },
  {
   "cell_type": "code",
   "execution_count": 20,
   "id": "f2c83c73",
   "metadata": {},
   "outputs": [],
   "source": [
    "df['Category'] = df['Category'].apply(clean_category)"
   ]
  },
  {
   "cell_type": "code",
   "execution_count": 21,
   "id": "6d8f689d",
   "metadata": {},
   "outputs": [
    {
     "data": {
      "text/html": [
       "<div>\n",
       "<style scoped>\n",
       "    .dataframe tbody tr th:only-of-type {\n",
       "        vertical-align: middle;\n",
       "    }\n",
       "\n",
       "    .dataframe tbody tr th {\n",
       "        vertical-align: top;\n",
       "    }\n",
       "\n",
       "    .dataframe thead th {\n",
       "        text-align: right;\n",
       "    }\n",
       "</style>\n",
       "<table border=\"1\" class=\"dataframe\">\n",
       "  <thead>\n",
       "    <tr style=\"text-align: right;\">\n",
       "      <th></th>\n",
       "      <th>Category</th>\n",
       "      <th>Text</th>\n",
       "    </tr>\n",
       "  </thead>\n",
       "  <tbody>\n",
       "    <tr>\n",
       "      <th>0</th>\n",
       "      <td>AI Engineer</td>\n",
       "      <td>Name: Eleanor Vance\\n\\nSummary:\\nHighly motiva...</td>\n",
       "    </tr>\n",
       "    <tr>\n",
       "      <th>1</th>\n",
       "      <td>AI Engineer</td>\n",
       "      <td>JOHN SMITH\\n(123) 456-7890 | john.smith@email....</td>\n",
       "    </tr>\n",
       "    <tr>\n",
       "      <th>2</th>\n",
       "      <td>AI Engineer</td>\n",
       "      <td>[Name] Anya Sharma\\n[Phone] (555) 123-4567\\n[E...</td>\n",
       "    </tr>\n",
       "    <tr>\n",
       "      <th>3</th>\n",
       "      <td>AI Engineer</td>\n",
       "      <td>Jane Doe\\n(123) 456-7890 | jane.doe@email.com ...</td>\n",
       "    </tr>\n",
       "    <tr>\n",
       "      <th>4</th>\n",
       "      <td>AI Engineer</td>\n",
       "      <td>Jane Doe\\n(123) 456-7890 | jane.doe@email.com ...</td>\n",
       "    </tr>\n",
       "  </tbody>\n",
       "</table>\n",
       "</div>"
      ],
      "text/plain": [
       "      Category                                               Text\n",
       "0  AI Engineer  Name: Eleanor Vance\\n\\nSummary:\\nHighly motiva...\n",
       "1  AI Engineer  JOHN SMITH\\n(123) 456-7890 | john.smith@email....\n",
       "2  AI Engineer  [Name] Anya Sharma\\n[Phone] (555) 123-4567\\n[E...\n",
       "3  AI Engineer  Jane Doe\\n(123) 456-7890 | jane.doe@email.com ...\n",
       "4  AI Engineer  Jane Doe\\n(123) 456-7890 | jane.doe@email.com ..."
      ]
     },
     "execution_count": 21,
     "metadata": {},
     "output_type": "execute_result"
    }
   ],
   "source": [
    "df.head()"
   ]
  },
  {
   "cell_type": "code",
   "execution_count": 22,
   "id": "e71a50c9",
   "metadata": {},
   "outputs": [
    {
     "name": "stdout",
     "output_type": "stream",
     "text": [
      "['AI Engineer' 'Computer Vision Engineer' 'Data Analyst' 'Data Engineer'\n",
      " 'NLP Engineer']\n"
     ]
    }
   ],
   "source": [
    "categories = df['Category'].unique()\n",
    "print(categories)"
   ]
  },
  {
   "cell_type": "code",
   "execution_count": 23,
   "id": "37ff597f",
   "metadata": {},
   "outputs": [],
   "source": [
    "df.to_csv(r'D:\\Resume Classification System\\data\\processed\\synthetic_dataset.csv')"
   ]
  },
  {
   "cell_type": "code",
   "execution_count": 3,
   "id": "115569f9",
   "metadata": {},
   "outputs": [
    {
     "data": {
      "text/plain": [
       "Unnamed: 0    0\n",
       "Category      0\n",
       "Text          0\n",
       "dtype: int64"
      ]
     },
     "execution_count": 3,
     "metadata": {},
     "output_type": "execute_result"
    }
   ],
   "source": [
    "df.isnull().sum()"
   ]
  },
  {
   "cell_type": "code",
   "execution_count": null,
   "id": "2a389285",
   "metadata": {},
   "outputs": [],
   "source": []
  }
 ],
 "metadata": {
  "kernelspec": {
   "display_name": "Python 3",
   "language": "python",
   "name": "python3"
  },
  "language_info": {
   "codemirror_mode": {
    "name": "ipython",
    "version": 3
   },
   "file_extension": ".py",
   "mimetype": "text/x-python",
   "name": "python",
   "nbconvert_exporter": "python",
   "pygments_lexer": "ipython3",
   "version": "3.10.0"
  }
 },
 "nbformat": 4,
 "nbformat_minor": 5
}
