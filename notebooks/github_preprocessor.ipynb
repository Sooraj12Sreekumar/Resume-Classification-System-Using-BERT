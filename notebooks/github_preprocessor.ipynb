{
 "cells": [
  {
   "cell_type": "code",
   "execution_count": 19,
   "id": "028c29bb",
   "metadata": {},
   "outputs": [],
   "source": [
    "import os\n",
    "import csv\n",
    "import pandas as pd\n",
    "import re"
   ]
  },
  {
   "cell_type": "code",
   "execution_count": 20,
   "id": "7fd6c023",
   "metadata": {},
   "outputs": [],
   "source": [
    "def txt_files_to_csv(input_folder, output_path):\n",
    "\n",
    "    os.makedirs(os.path.dirname(output_path), exist_ok=True)\n",
    "    \n",
    "    with open(output_path, 'w', newline='', encoding='utf-8') as csvfile:\n",
    "        writer = csv.writer(csvfile)\n",
    "\n",
    "        writer.writerow(['Category', 'Text'])\n",
    "        \n",
    "        for filename in os.listdir(input_folder):\n",
    "            if filename.endswith('.txt'):\n",
    "                file_path = os.path.join(input_folder, filename)\n",
    "                try:\n",
    "                    with open(file_path, 'r', encoding='utf-8') as txtfile:\n",
    "                        content = txtfile.read()\n",
    "                        writer.writerow([filename, content])\n",
    "                except Exception as e:\n",
    "                    print(f\"Error processing {filename}: {str(e)}\")\n",
    "    \n",
    "    print(f\"CSV file created successfully at {output_path}\")"
   ]
  },
  {
   "cell_type": "code",
   "execution_count": 21,
   "id": "93118e50",
   "metadata": {},
   "outputs": [
    {
     "name": "stdout",
     "output_type": "stream",
     "text": [
      "CSV file created successfully at ..\\data\\processed\\github_dataset.csv\n"
     ]
    }
   ],
   "source": [
    "input_folder = os.path.join('..','data', 'raw', 'github_resumes')\n",
    "output_path = os.path.join('..', 'data', 'processed', 'github_dataset.csv')\n",
    "txt_files_to_csv(input_folder, output_path)"
   ]
  },
  {
   "cell_type": "code",
   "execution_count": 22,
   "id": "776bcf98",
   "metadata": {},
   "outputs": [
    {
     "data": {
      "text/html": [
       "<div>\n",
       "<style scoped>\n",
       "    .dataframe tbody tr th:only-of-type {\n",
       "        vertical-align: middle;\n",
       "    }\n",
       "\n",
       "    .dataframe tbody tr th {\n",
       "        vertical-align: top;\n",
       "    }\n",
       "\n",
       "    .dataframe thead th {\n",
       "        text-align: right;\n",
       "    }\n",
       "</style>\n",
       "<table border=\"1\" class=\"dataframe\">\n",
       "  <thead>\n",
       "    <tr style=\"text-align: right;\">\n",
       "      <th></th>\n",
       "      <th>Category</th>\n",
       "      <th>Text</th>\n",
       "    </tr>\n",
       "  </thead>\n",
       "  <tbody>\n",
       "    <tr>\n",
       "      <th>0</th>\n",
       "      <td>artificialintelligenceresume264.txt</td>\n",
       "      <td>Role: AI Engineer\\nSkills: Deep Learning, NLP,...</td>\n",
       "    </tr>\n",
       "    <tr>\n",
       "      <th>1</th>\n",
       "      <td>artificialintelligenceresume265.txt</td>\n",
       "      <td>Abhishek kumar\\nartificial intelligence and ma...</td>\n",
       "    </tr>\n",
       "    <tr>\n",
       "      <th>2</th>\n",
       "      <td>azranmelodymodlingreadme.txt</td>\n",
       "      <td>Building OpenCV from Source, using CMake and C...</td>\n",
       "    </tr>\n",
       "    <tr>\n",
       "      <th>3</th>\n",
       "      <td>azranmelody_modling_readme.txt</td>\n",
       "      <td>Building OpenCV from Source, using CMake and C...</td>\n",
       "    </tr>\n",
       "    <tr>\n",
       "      <th>4</th>\n",
       "      <td>bassimeledathtest-llm-structured-outputsenior-...</td>\n",
       "      <td>Terrence Coleman\\ntcoleman@email.com (123) 456...</td>\n",
       "    </tr>\n",
       "  </tbody>\n",
       "</table>\n",
       "</div>"
      ],
      "text/plain": [
       "                                            Category  \\\n",
       "0                artificialintelligenceresume264.txt   \n",
       "1                artificialintelligenceresume265.txt   \n",
       "2                       azranmelodymodlingreadme.txt   \n",
       "3                     azranmelody_modling_readme.txt   \n",
       "4  bassimeledathtest-llm-structured-outputsenior-...   \n",
       "\n",
       "                                                Text  \n",
       "0  Role: AI Engineer\\nSkills: Deep Learning, NLP,...  \n",
       "1  Abhishek kumar\\nartificial intelligence and ma...  \n",
       "2  Building OpenCV from Source, using CMake and C...  \n",
       "3  Building OpenCV from Source, using CMake and C...  \n",
       "4  Terrence Coleman\\ntcoleman@email.com (123) 456...  "
      ]
     },
     "execution_count": 22,
     "metadata": {},
     "output_type": "execute_result"
    }
   ],
   "source": [
    "df1 = pd.read_csv(r'D:\\Resume Classification System\\data\\processed\\github_dataset.csv')\n",
    "df1.head()"
   ]
  },
  {
   "cell_type": "code",
   "execution_count": 23,
   "id": "fded165c",
   "metadata": {},
   "outputs": [],
   "source": [
    "def categorize_filename(filename):\n",
    "\n",
    "    filename_lower = str(filename).lower()\n",
    "    \n",
    "    if filename_lower.startswith('artificialintelligence'):\n",
    "        return 'AI Engineer'\n",
    "    elif filename_lower.startswith('dataanalyst'):\n",
    "        return 'Data Analyst'\n",
    "    elif filename_lower.startswith('datascientist'):\n",
    "        return 'Data Scientist'\n",
    "    elif filename_lower.startswith('machinelearning'):\n",
    "        return 'ML Engineer'\n",
    "    elif '-data-scientist-resume-' in filename_lower or 'data_scientist' in filename_lower:\n",
    "        return 'Data Scientist'\n",
    "    else:\n",
    "        return 'Other'"
   ]
  },
  {
   "cell_type": "code",
   "execution_count": 24,
   "id": "812edafc",
   "metadata": {},
   "outputs": [],
   "source": [
    "df1[\"Category\"] = df1['Category'].apply(categorize_filename)"
   ]
  },
  {
   "cell_type": "code",
   "execution_count": 25,
   "id": "1bebf856",
   "metadata": {},
   "outputs": [
    {
     "name": "stdout",
     "output_type": "stream",
     "text": [
      "['AI Engineer' 'Other' 'Data Scientist' 'Data Analyst' 'ML Engineer']\n"
     ]
    }
   ],
   "source": [
    "categories = df1['Category'].unique()\n",
    "print(categories)"
   ]
  },
  {
   "cell_type": "code",
   "execution_count": 26,
   "id": "0edacbe8",
   "metadata": {},
   "outputs": [
    {
     "name": "stdout",
     "output_type": "stream",
     "text": [
      "Category\n",
      "Data Scientist    149\n",
      "ML Engineer       112\n",
      "Other              16\n",
      "Data Analyst       14\n",
      "AI Engineer         2\n",
      "Name: count, dtype: int64\n"
     ]
    }
   ],
   "source": [
    "count_of_category = df1['Category'].value_counts()\n",
    "print(count_of_category)"
   ]
  },
  {
   "cell_type": "code",
   "execution_count": 10,
   "id": "6df774b2",
   "metadata": {},
   "outputs": [],
   "source": [
    "df1.to_csv(r'D:\\Resume Classification System\\data\\processed\\github_categorized_dataset.csv', index=False)"
   ]
  },
  {
   "cell_type": "code",
   "execution_count": 12,
   "id": "9fdcc4e7",
   "metadata": {},
   "outputs": [],
   "source": [
    "header = [\"Category\", \"Text\"]\n",
    "df2 = pd.read_csv(r'D:\\Resume Classification System\\data\\processed\\github_categorized_dataset.csv')\n",
    "df2.columns = header"
   ]
  },
  {
   "cell_type": "code",
   "execution_count": 16,
   "id": "905d623a",
   "metadata": {},
   "outputs": [
    {
     "data": {
      "text/html": [
       "<div>\n",
       "<style scoped>\n",
       "    .dataframe tbody tr th:only-of-type {\n",
       "        vertical-align: middle;\n",
       "    }\n",
       "\n",
       "    .dataframe tbody tr th {\n",
       "        vertical-align: top;\n",
       "    }\n",
       "\n",
       "    .dataframe thead th {\n",
       "        text-align: right;\n",
       "    }\n",
       "</style>\n",
       "<table border=\"1\" class=\"dataframe\">\n",
       "  <thead>\n",
       "    <tr style=\"text-align: right;\">\n",
       "      <th></th>\n",
       "      <th>Category</th>\n",
       "      <th>Text</th>\n",
       "    </tr>\n",
       "  </thead>\n",
       "  <tbody>\n",
       "    <tr>\n",
       "      <th>0</th>\n",
       "      <td>AI Engineer</td>\n",
       "      <td>Role: AI Engineer\\nSkills: Deep Learning, NLP,...</td>\n",
       "    </tr>\n",
       "    <tr>\n",
       "      <th>2</th>\n",
       "      <td>Other</td>\n",
       "      <td>Building OpenCV from Source, using CMake and C...</td>\n",
       "    </tr>\n",
       "    <tr>\n",
       "      <th>3</th>\n",
       "      <td>Other</td>\n",
       "      <td>Building OpenCV from Source, using CMake and C...</td>\n",
       "    </tr>\n",
       "    <tr>\n",
       "      <th>4</th>\n",
       "      <td>Data Scientist</td>\n",
       "      <td>Terrence Coleman\\ntcoleman@email.com (123) 456...</td>\n",
       "    </tr>\n",
       "    <tr>\n",
       "      <th>5</th>\n",
       "      <td>Data Scientist</td>\n",
       "      <td>Terrence Coleman\\ntcoleman@email.com (123) 456...</td>\n",
       "    </tr>\n",
       "  </tbody>\n",
       "</table>\n",
       "</div>"
      ],
      "text/plain": [
       "         Category                                               Text\n",
       "0     AI Engineer  Role: AI Engineer\\nSkills: Deep Learning, NLP,...\n",
       "2           Other  Building OpenCV from Source, using CMake and C...\n",
       "3           Other  Building OpenCV from Source, using CMake and C...\n",
       "4  Data Scientist  Terrence Coleman\\ntcoleman@email.com (123) 456...\n",
       "5  Data Scientist  Terrence Coleman\\ntcoleman@email.com (123) 456..."
      ]
     },
     "execution_count": 16,
     "metadata": {},
     "output_type": "execute_result"
    }
   ],
   "source": [
    "df2.head()"
   ]
  },
  {
   "cell_type": "code",
   "execution_count": 17,
   "id": "32669a7d",
   "metadata": {},
   "outputs": [
    {
     "data": {
      "text/html": [
       "<div>\n",
       "<style scoped>\n",
       "    .dataframe tbody tr th:only-of-type {\n",
       "        vertical-align: middle;\n",
       "    }\n",
       "\n",
       "    .dataframe tbody tr th {\n",
       "        vertical-align: top;\n",
       "    }\n",
       "\n",
       "    .dataframe thead th {\n",
       "        text-align: right;\n",
       "    }\n",
       "</style>\n",
       "<table border=\"1\" class=\"dataframe\">\n",
       "  <thead>\n",
       "    <tr style=\"text-align: right;\">\n",
       "      <th></th>\n",
       "      <th>Category</th>\n",
       "      <th>Text</th>\n",
       "    </tr>\n",
       "  </thead>\n",
       "  <tbody>\n",
       "    <tr>\n",
       "      <th>288</th>\n",
       "      <td>Other</td>\n",
       "      <td>\\documentclass[letterpaper,10pt]{article}\\n\\us...</td>\n",
       "    </tr>\n",
       "    <tr>\n",
       "      <th>289</th>\n",
       "      <td>Other</td>\n",
       "      <td>SUMMARY Around 5 years of professional experie...</td>\n",
       "    </tr>\n",
       "    <tr>\n",
       "      <th>290</th>\n",
       "      <td>Other</td>\n",
       "      <td>SUMMARY 8+ years of experience in Data Science...</td>\n",
       "    </tr>\n",
       "    <tr>\n",
       "      <th>291</th>\n",
       "      <td>Other</td>\n",
       "      <td>SUMMARY Around 5 years of professional experie...</td>\n",
       "    </tr>\n",
       "    <tr>\n",
       "      <th>292</th>\n",
       "      <td>Other</td>\n",
       "      <td>SUMMARY 8+ years of experience in Data Science...</td>\n",
       "    </tr>\n",
       "  </tbody>\n",
       "</table>\n",
       "</div>"
      ],
      "text/plain": [
       "    Category                                               Text\n",
       "288    Other  \\documentclass[letterpaper,10pt]{article}\\n\\us...\n",
       "289    Other  SUMMARY Around 5 years of professional experie...\n",
       "290    Other  SUMMARY 8+ years of experience in Data Science...\n",
       "291    Other  SUMMARY Around 5 years of professional experie...\n",
       "292    Other  SUMMARY 8+ years of experience in Data Science..."
      ]
     },
     "execution_count": 17,
     "metadata": {},
     "output_type": "execute_result"
    }
   ],
   "source": [
    "df2.tail()"
   ]
  },
  {
   "cell_type": "code",
   "execution_count": 18,
   "id": "b54490de",
   "metadata": {},
   "outputs": [
    {
     "name": "stdout",
     "output_type": "stream",
     "text": [
      "['AI Engineer' 'Other' 'Data Scientist' 'Data Analyst' 'ML Engineer']\n",
      "Category\n",
      "Data Scientist    149\n",
      "ML Engineer       112\n",
      "Other              16\n",
      "Data Analyst       14\n",
      "AI Engineer         1\n",
      "Name: count, dtype: int64\n"
     ]
    }
   ],
   "source": [
    "categories1 = df2['Category'].unique()\n",
    "values_in_category = df2['Category'].value_counts()\n",
    "print(categories1)\n",
    "print(values_in_category)"
   ]
  },
  {
   "cell_type": "code",
   "execution_count": null,
   "id": "61119745",
   "metadata": {},
   "outputs": [
    {
     "data": {
      "text/plain": [
       "Category    0\n",
       "Text        0\n",
       "dtype: int64"
      ]
     },
     "execution_count": 16,
     "metadata": {},
     "output_type": "execute_result"
    }
   ],
   "source": [
    "df2.isnull().sum()"
   ]
  },
  {
   "cell_type": "code",
   "execution_count": 27,
   "id": "6793335c",
   "metadata": {},
   "outputs": [],
   "source": [
    "dff =pd.read_csv(r'D:\\Resume Classification System\\data\\processed\\github_categorized.csv')"
   ]
  },
  {
   "cell_type": "code",
   "execution_count": 28,
   "id": "82018565",
   "metadata": {},
   "outputs": [
    {
     "data": {
      "text/html": [
       "<div>\n",
       "<style scoped>\n",
       "    .dataframe tbody tr th:only-of-type {\n",
       "        vertical-align: middle;\n",
       "    }\n",
       "\n",
       "    .dataframe tbody tr th {\n",
       "        vertical-align: top;\n",
       "    }\n",
       "\n",
       "    .dataframe thead th {\n",
       "        text-align: right;\n",
       "    }\n",
       "</style>\n",
       "<table border=\"1\" class=\"dataframe\">\n",
       "  <thead>\n",
       "    <tr style=\"text-align: right;\">\n",
       "      <th></th>\n",
       "      <th>Category</th>\n",
       "      <th>Text</th>\n",
       "    </tr>\n",
       "  </thead>\n",
       "  <tbody>\n",
       "    <tr>\n",
       "      <th>0</th>\n",
       "      <td>AI Engineer</td>\n",
       "      <td>Abhishek kumar\\nartificial intelligence and ma...</td>\n",
       "    </tr>\n",
       "    <tr>\n",
       "      <th>1</th>\n",
       "      <td>Category</td>\n",
       "      <td>Text</td>\n",
       "    </tr>\n",
       "    <tr>\n",
       "      <th>2</th>\n",
       "      <td>Data Analyst</td>\n",
       "      <td>DATA ANALYST F/H\\n\\nArailym PERNEBAY\\n\\nperneb...</td>\n",
       "    </tr>\n",
       "    <tr>\n",
       "      <th>3</th>\n",
       "      <td>Data Analyst</td>\n",
       "      <td># CV 4: Cybersecurity Analyst\\n**Name**: Emily...</td>\n",
       "    </tr>\n",
       "    <tr>\n",
       "      <th>4</th>\n",
       "      <td>Data Analyst</td>\n",
       "      <td>Name: Ravi Kumar\\nContact: ravi.k@email.com | ...</td>\n",
       "    </tr>\n",
       "  </tbody>\n",
       "</table>\n",
       "</div>"
      ],
      "text/plain": [
       "       Category                                               Text\n",
       "0   AI Engineer  Abhishek kumar\\nartificial intelligence and ma...\n",
       "1      Category                                               Text\n",
       "2  Data Analyst  DATA ANALYST F/H\\n\\nArailym PERNEBAY\\n\\nperneb...\n",
       "3  Data Analyst  # CV 4: Cybersecurity Analyst\\n**Name**: Emily...\n",
       "4  Data Analyst  Name: Ravi Kumar\\nContact: ravi.k@email.com | ..."
      ]
     },
     "execution_count": 28,
     "metadata": {},
     "output_type": "execute_result"
    }
   ],
   "source": [
    "dff.head()"
   ]
  },
  {
   "cell_type": "code",
   "execution_count": 29,
   "id": "4ab880b8",
   "metadata": {},
   "outputs": [
    {
     "data": {
      "text/html": [
       "<div>\n",
       "<style scoped>\n",
       "    .dataframe tbody tr th:only-of-type {\n",
       "        vertical-align: middle;\n",
       "    }\n",
       "\n",
       "    .dataframe tbody tr th {\n",
       "        vertical-align: top;\n",
       "    }\n",
       "\n",
       "    .dataframe thead th {\n",
       "        text-align: right;\n",
       "    }\n",
       "</style>\n",
       "<table border=\"1\" class=\"dataframe\">\n",
       "  <thead>\n",
       "    <tr style=\"text-align: right;\">\n",
       "      <th></th>\n",
       "      <th>Category</th>\n",
       "      <th>Text</th>\n",
       "    </tr>\n",
       "  </thead>\n",
       "  <tbody>\n",
       "    <tr>\n",
       "      <th>125</th>\n",
       "      <td>ML Engineer</td>\n",
       "      <td>Objective:\\nDedicated and driven legal profess...</td>\n",
       "    </tr>\n",
       "    <tr>\n",
       "      <th>126</th>\n",
       "      <td>ML Engineer</td>\n",
       "      <td>Objective:\\nCompassionate and dedicated health...</td>\n",
       "    </tr>\n",
       "    <tr>\n",
       "      <th>127</th>\n",
       "      <td>ML Engineer</td>\n",
       "      <td>Objective:\\nDedicated and results-oriented Ban...</td>\n",
       "    </tr>\n",
       "    <tr>\n",
       "      <th>128</th>\n",
       "      <td>Data Scientist</td>\n",
       "      <td>SUMMARY Around 5 years of professional experie...</td>\n",
       "    </tr>\n",
       "    <tr>\n",
       "      <th>129</th>\n",
       "      <td>Data Scientist</td>\n",
       "      <td>SUMMARY 8+ years of experience in Data Science...</td>\n",
       "    </tr>\n",
       "  </tbody>\n",
       "</table>\n",
       "</div>"
      ],
      "text/plain": [
       "           Category                                               Text\n",
       "125     ML Engineer  Objective:\\nDedicated and driven legal profess...\n",
       "126     ML Engineer  Objective:\\nCompassionate and dedicated health...\n",
       "127     ML Engineer  Objective:\\nDedicated and results-oriented Ban...\n",
       "128  Data Scientist  SUMMARY Around 5 years of professional experie...\n",
       "129  Data Scientist  SUMMARY 8+ years of experience in Data Science..."
      ]
     },
     "execution_count": 29,
     "metadata": {},
     "output_type": "execute_result"
    }
   ],
   "source": [
    "dff.tail()"
   ]
  },
  {
   "cell_type": "code",
   "execution_count": 32,
   "id": "73255e32",
   "metadata": {},
   "outputs": [
    {
     "data": {
      "text/plain": [
       "array(['AI Engineer', 'Category', 'Data Analyst', 'Data Scientist',\n",
       "       'ML Engineer'], dtype=object)"
      ]
     },
     "execution_count": 32,
     "metadata": {},
     "output_type": "execute_result"
    }
   ],
   "source": [
    "dff['Category'].unique()"
   ]
  },
  {
   "cell_type": "code",
   "execution_count": 33,
   "id": "ad819f6b",
   "metadata": {},
   "outputs": [],
   "source": [
    "dff = dff.drop(index=1)"
   ]
  },
  {
   "cell_type": "code",
   "execution_count": 34,
   "id": "2afab603",
   "metadata": {},
   "outputs": [
    {
     "data": {
      "text/html": [
       "<div>\n",
       "<style scoped>\n",
       "    .dataframe tbody tr th:only-of-type {\n",
       "        vertical-align: middle;\n",
       "    }\n",
       "\n",
       "    .dataframe tbody tr th {\n",
       "        vertical-align: top;\n",
       "    }\n",
       "\n",
       "    .dataframe thead th {\n",
       "        text-align: right;\n",
       "    }\n",
       "</style>\n",
       "<table border=\"1\" class=\"dataframe\">\n",
       "  <thead>\n",
       "    <tr style=\"text-align: right;\">\n",
       "      <th></th>\n",
       "      <th>Category</th>\n",
       "      <th>Text</th>\n",
       "    </tr>\n",
       "  </thead>\n",
       "  <tbody>\n",
       "    <tr>\n",
       "      <th>0</th>\n",
       "      <td>AI Engineer</td>\n",
       "      <td>Abhishek kumar\\nartificial intelligence and ma...</td>\n",
       "    </tr>\n",
       "    <tr>\n",
       "      <th>2</th>\n",
       "      <td>Data Analyst</td>\n",
       "      <td>DATA ANALYST F/H\\n\\nArailym PERNEBAY\\n\\nperneb...</td>\n",
       "    </tr>\n",
       "    <tr>\n",
       "      <th>3</th>\n",
       "      <td>Data Analyst</td>\n",
       "      <td># CV 4: Cybersecurity Analyst\\n**Name**: Emily...</td>\n",
       "    </tr>\n",
       "    <tr>\n",
       "      <th>4</th>\n",
       "      <td>Data Analyst</td>\n",
       "      <td>Name: Ravi Kumar\\nContact: ravi.k@email.com | ...</td>\n",
       "    </tr>\n",
       "    <tr>\n",
       "      <th>5</th>\n",
       "      <td>Data Analyst</td>\n",
       "      <td>Title: Top Analyst Reports for Bank of America...</td>\n",
       "    </tr>\n",
       "  </tbody>\n",
       "</table>\n",
       "</div>"
      ],
      "text/plain": [
       "       Category                                               Text\n",
       "0   AI Engineer  Abhishek kumar\\nartificial intelligence and ma...\n",
       "2  Data Analyst  DATA ANALYST F/H\\n\\nArailym PERNEBAY\\n\\nperneb...\n",
       "3  Data Analyst  # CV 4: Cybersecurity Analyst\\n**Name**: Emily...\n",
       "4  Data Analyst  Name: Ravi Kumar\\nContact: ravi.k@email.com | ...\n",
       "5  Data Analyst  Title: Top Analyst Reports for Bank of America..."
      ]
     },
     "execution_count": 34,
     "metadata": {},
     "output_type": "execute_result"
    }
   ],
   "source": [
    "dff.head()"
   ]
  },
  {
   "cell_type": "code",
   "execution_count": 35,
   "id": "d9bce5d9",
   "metadata": {},
   "outputs": [],
   "source": [
    "dff.to_csv(r'D:\\Resume Classification System\\data\\processed\\github_categorized.csv')"
   ]
  },
  {
   "cell_type": "code",
   "execution_count": null,
   "id": "ad9df739",
   "metadata": {},
   "outputs": [],
   "source": []
  }
 ],
 "metadata": {
  "kernelspec": {
   "display_name": "Python 3",
   "language": "python",
   "name": "python3"
  },
  "language_info": {
   "codemirror_mode": {
    "name": "ipython",
    "version": 3
   },
   "file_extension": ".py",
   "mimetype": "text/x-python",
   "name": "python",
   "nbconvert_exporter": "python",
   "pygments_lexer": "ipython3",
   "version": "3.10.0"
  }
 },
 "nbformat": 4,
 "nbformat_minor": 5
}
