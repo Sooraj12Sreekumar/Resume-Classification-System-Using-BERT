{
 "cells": [
  {
   "cell_type": "code",
   "execution_count": 8,
   "id": "b205310f",
   "metadata": {},
   "outputs": [],
   "source": [
    "import pandas as pd\n",
    "import numpy as np"
   ]
  },
  {
   "cell_type": "code",
   "execution_count": 9,
   "id": "5f7c92fe",
   "metadata": {},
   "outputs": [
    {
     "data": {
      "text/html": [
       "<div>\n",
       "<style scoped>\n",
       "    .dataframe tbody tr th:only-of-type {\n",
       "        vertical-align: middle;\n",
       "    }\n",
       "\n",
       "    .dataframe tbody tr th {\n",
       "        vertical-align: top;\n",
       "    }\n",
       "\n",
       "    .dataframe thead th {\n",
       "        text-align: right;\n",
       "    }\n",
       "</style>\n",
       "<table border=\"1\" class=\"dataframe\">\n",
       "  <thead>\n",
       "    <tr style=\"text-align: right;\">\n",
       "      <th></th>\n",
       "      <th>Unnamed: 0</th>\n",
       "      <th>Category</th>\n",
       "      <th>Text</th>\n",
       "    </tr>\n",
       "  </thead>\n",
       "  <tbody>\n",
       "    <tr>\n",
       "      <th>0</th>\n",
       "      <td>0</td>\n",
       "      <td>Accountant</td>\n",
       "      <td>﻿________________\\r\\n\\r\\nEDUCATION\\r\\nOMBA - E...</td>\n",
       "    </tr>\n",
       "    <tr>\n",
       "      <th>1</th>\n",
       "      <td>1</td>\n",
       "      <td>Accountant</td>\n",
       "      <td>﻿________________\\r\\n\\r\\nHOWARD GERRARD\\r\\nAcc...</td>\n",
       "    </tr>\n",
       "    <tr>\n",
       "      <th>2</th>\n",
       "      <td>2</td>\n",
       "      <td>Accountant</td>\n",
       "      <td>﻿________________\\r\\n\\r\\nKevin Frank\\r\\nSENIOR...</td>\n",
       "    </tr>\n",
       "    <tr>\n",
       "      <th>3</th>\n",
       "      <td>3</td>\n",
       "      <td>Accountant</td>\n",
       "      <td>﻿________________\\r\\n\\r\\nPlace of birth\\r\\nNat...</td>\n",
       "    </tr>\n",
       "    <tr>\n",
       "      <th>4</th>\n",
       "      <td>4</td>\n",
       "      <td>Accountant</td>\n",
       "      <td>﻿________________\\r\\n\\r\\nStephen Greet, CPA\\r\\...</td>\n",
       "    </tr>\n",
       "  </tbody>\n",
       "</table>\n",
       "</div>"
      ],
      "text/plain": [
       "   Unnamed: 0    Category                                               Text\n",
       "0           0  Accountant  ﻿________________\\r\\n\\r\\nEDUCATION\\r\\nOMBA - E...\n",
       "1           1  Accountant  ﻿________________\\r\\n\\r\\nHOWARD GERRARD\\r\\nAcc...\n",
       "2           2  Accountant  ﻿________________\\r\\n\\r\\nKevin Frank\\r\\nSENIOR...\n",
       "3           3  Accountant  ﻿________________\\r\\n\\r\\nPlace of birth\\r\\nNat...\n",
       "4           4  Accountant  ﻿________________\\r\\n\\r\\nStephen Greet, CPA\\r\\..."
      ]
     },
     "execution_count": 9,
     "metadata": {},
     "output_type": "execute_result"
    }
   ],
   "source": [
    "df1 = pd.read_csv(r'D:\\Resume Classification System\\data\\raw\\Dataset.csv')\n",
    "df1.head()"
   ]
  },
  {
   "cell_type": "code",
   "execution_count": 10,
   "id": "946fc892",
   "metadata": {},
   "outputs": [],
   "source": [
    "df1 = df1.drop('Unnamed: 0',axis=1)"
   ]
  },
  {
   "cell_type": "code",
   "execution_count": 11,
   "id": "20959881",
   "metadata": {},
   "outputs": [
    {
     "data": {
      "text/html": [
       "<div>\n",
       "<style scoped>\n",
       "    .dataframe tbody tr th:only-of-type {\n",
       "        vertical-align: middle;\n",
       "    }\n",
       "\n",
       "    .dataframe tbody tr th {\n",
       "        vertical-align: top;\n",
       "    }\n",
       "\n",
       "    .dataframe thead th {\n",
       "        text-align: right;\n",
       "    }\n",
       "</style>\n",
       "<table border=\"1\" class=\"dataframe\">\n",
       "  <thead>\n",
       "    <tr style=\"text-align: right;\">\n",
       "      <th></th>\n",
       "      <th>Category</th>\n",
       "      <th>Text</th>\n",
       "    </tr>\n",
       "  </thead>\n",
       "  <tbody>\n",
       "    <tr>\n",
       "      <th>0</th>\n",
       "      <td>Accountant</td>\n",
       "      <td>﻿________________\\r\\n\\r\\nEDUCATION\\r\\nOMBA - E...</td>\n",
       "    </tr>\n",
       "    <tr>\n",
       "      <th>1</th>\n",
       "      <td>Accountant</td>\n",
       "      <td>﻿________________\\r\\n\\r\\nHOWARD GERRARD\\r\\nAcc...</td>\n",
       "    </tr>\n",
       "    <tr>\n",
       "      <th>2</th>\n",
       "      <td>Accountant</td>\n",
       "      <td>﻿________________\\r\\n\\r\\nKevin Frank\\r\\nSENIOR...</td>\n",
       "    </tr>\n",
       "    <tr>\n",
       "      <th>3</th>\n",
       "      <td>Accountant</td>\n",
       "      <td>﻿________________\\r\\n\\r\\nPlace of birth\\r\\nNat...</td>\n",
       "    </tr>\n",
       "    <tr>\n",
       "      <th>4</th>\n",
       "      <td>Accountant</td>\n",
       "      <td>﻿________________\\r\\n\\r\\nStephen Greet, CPA\\r\\...</td>\n",
       "    </tr>\n",
       "  </tbody>\n",
       "</table>\n",
       "</div>"
      ],
      "text/plain": [
       "     Category                                               Text\n",
       "0  Accountant  ﻿________________\\r\\n\\r\\nEDUCATION\\r\\nOMBA - E...\n",
       "1  Accountant  ﻿________________\\r\\n\\r\\nHOWARD GERRARD\\r\\nAcc...\n",
       "2  Accountant  ﻿________________\\r\\n\\r\\nKevin Frank\\r\\nSENIOR...\n",
       "3  Accountant  ﻿________________\\r\\n\\r\\nPlace of birth\\r\\nNat...\n",
       "4  Accountant  ﻿________________\\r\\n\\r\\nStephen Greet, CPA\\r\\..."
      ]
     },
     "execution_count": 11,
     "metadata": {},
     "output_type": "execute_result"
    }
   ],
   "source": [
    "df1.head()"
   ]
  },
  {
   "cell_type": "code",
   "execution_count": 12,
   "id": "277bf0a9",
   "metadata": {},
   "outputs": [
    {
     "data": {
      "text/html": [
       "<div>\n",
       "<style scoped>\n",
       "    .dataframe tbody tr th:only-of-type {\n",
       "        vertical-align: middle;\n",
       "    }\n",
       "\n",
       "    .dataframe tbody tr th {\n",
       "        vertical-align: top;\n",
       "    }\n",
       "\n",
       "    .dataframe thead th {\n",
       "        text-align: right;\n",
       "    }\n",
       "</style>\n",
       "<table border=\"1\" class=\"dataframe\">\n",
       "  <thead>\n",
       "    <tr style=\"text-align: right;\">\n",
       "      <th></th>\n",
       "      <th>Unnamed: 0</th>\n",
       "      <th>Category</th>\n",
       "      <th>Text</th>\n",
       "    </tr>\n",
       "  </thead>\n",
       "  <tbody>\n",
       "    <tr>\n",
       "      <th>0</th>\n",
       "      <td>0</td>\n",
       "      <td>AI Engineer</td>\n",
       "      <td>Abhishek kumar\\nartificial intelligence and ma...</td>\n",
       "    </tr>\n",
       "    <tr>\n",
       "      <th>1</th>\n",
       "      <td>2</td>\n",
       "      <td>Data Analyst</td>\n",
       "      <td>DATA ANALYST F/H\\n\\nArailym PERNEBAY\\n\\nperneb...</td>\n",
       "    </tr>\n",
       "    <tr>\n",
       "      <th>2</th>\n",
       "      <td>3</td>\n",
       "      <td>Data Analyst</td>\n",
       "      <td># CV 4: Cybersecurity Analyst\\n**Name**: Emily...</td>\n",
       "    </tr>\n",
       "    <tr>\n",
       "      <th>3</th>\n",
       "      <td>4</td>\n",
       "      <td>Data Analyst</td>\n",
       "      <td>Name: Ravi Kumar\\nContact: ravi.k@email.com | ...</td>\n",
       "    </tr>\n",
       "    <tr>\n",
       "      <th>4</th>\n",
       "      <td>5</td>\n",
       "      <td>Data Analyst</td>\n",
       "      <td>Title: Top Analyst Reports for Bank of America...</td>\n",
       "    </tr>\n",
       "  </tbody>\n",
       "</table>\n",
       "</div>"
      ],
      "text/plain": [
       "   Unnamed: 0      Category                                               Text\n",
       "0           0   AI Engineer  Abhishek kumar\\nartificial intelligence and ma...\n",
       "1           2  Data Analyst  DATA ANALYST F/H\\n\\nArailym PERNEBAY\\n\\nperneb...\n",
       "2           3  Data Analyst  # CV 4: Cybersecurity Analyst\\n**Name**: Emily...\n",
       "3           4  Data Analyst  Name: Ravi Kumar\\nContact: ravi.k@email.com | ...\n",
       "4           5  Data Analyst  Title: Top Analyst Reports for Bank of America..."
      ]
     },
     "execution_count": 12,
     "metadata": {},
     "output_type": "execute_result"
    }
   ],
   "source": [
    "df2 = pd.read_csv(r'D:\\Resume Classification System\\data\\raw\\github_categorized.csv')\n",
    "df2.head()"
   ]
  },
  {
   "cell_type": "code",
   "execution_count": 13,
   "id": "7b2a7494",
   "metadata": {},
   "outputs": [],
   "source": [
    "df2 = df2.drop('Unnamed: 0',axis=1)"
   ]
  },
  {
   "cell_type": "code",
   "execution_count": 14,
   "id": "b84d410c",
   "metadata": {},
   "outputs": [
    {
     "data": {
      "text/html": [
       "<div>\n",
       "<style scoped>\n",
       "    .dataframe tbody tr th:only-of-type {\n",
       "        vertical-align: middle;\n",
       "    }\n",
       "\n",
       "    .dataframe tbody tr th {\n",
       "        vertical-align: top;\n",
       "    }\n",
       "\n",
       "    .dataframe thead th {\n",
       "        text-align: right;\n",
       "    }\n",
       "</style>\n",
       "<table border=\"1\" class=\"dataframe\">\n",
       "  <thead>\n",
       "    <tr style=\"text-align: right;\">\n",
       "      <th></th>\n",
       "      <th>Category</th>\n",
       "      <th>Text</th>\n",
       "    </tr>\n",
       "  </thead>\n",
       "  <tbody>\n",
       "    <tr>\n",
       "      <th>0</th>\n",
       "      <td>AI Engineer</td>\n",
       "      <td>Abhishek kumar\\nartificial intelligence and ma...</td>\n",
       "    </tr>\n",
       "    <tr>\n",
       "      <th>1</th>\n",
       "      <td>Data Analyst</td>\n",
       "      <td>DATA ANALYST F/H\\n\\nArailym PERNEBAY\\n\\nperneb...</td>\n",
       "    </tr>\n",
       "    <tr>\n",
       "      <th>2</th>\n",
       "      <td>Data Analyst</td>\n",
       "      <td># CV 4: Cybersecurity Analyst\\n**Name**: Emily...</td>\n",
       "    </tr>\n",
       "    <tr>\n",
       "      <th>3</th>\n",
       "      <td>Data Analyst</td>\n",
       "      <td>Name: Ravi Kumar\\nContact: ravi.k@email.com | ...</td>\n",
       "    </tr>\n",
       "    <tr>\n",
       "      <th>4</th>\n",
       "      <td>Data Analyst</td>\n",
       "      <td>Title: Top Analyst Reports for Bank of America...</td>\n",
       "    </tr>\n",
       "  </tbody>\n",
       "</table>\n",
       "</div>"
      ],
      "text/plain": [
       "       Category                                               Text\n",
       "0   AI Engineer  Abhishek kumar\\nartificial intelligence and ma...\n",
       "1  Data Analyst  DATA ANALYST F/H\\n\\nArailym PERNEBAY\\n\\nperneb...\n",
       "2  Data Analyst  # CV 4: Cybersecurity Analyst\\n**Name**: Emily...\n",
       "3  Data Analyst  Name: Ravi Kumar\\nContact: ravi.k@email.com | ...\n",
       "4  Data Analyst  Title: Top Analyst Reports for Bank of America..."
      ]
     },
     "execution_count": 14,
     "metadata": {},
     "output_type": "execute_result"
    }
   ],
   "source": [
    "df2.head()"
   ]
  },
  {
   "cell_type": "code",
   "execution_count": 16,
   "id": "90d56a20",
   "metadata": {},
   "outputs": [
    {
     "data": {
      "text/html": [
       "<div>\n",
       "<style scoped>\n",
       "    .dataframe tbody tr th:only-of-type {\n",
       "        vertical-align: middle;\n",
       "    }\n",
       "\n",
       "    .dataframe tbody tr th {\n",
       "        vertical-align: top;\n",
       "    }\n",
       "\n",
       "    .dataframe thead th {\n",
       "        text-align: right;\n",
       "    }\n",
       "</style>\n",
       "<table border=\"1\" class=\"dataframe\">\n",
       "  <thead>\n",
       "    <tr style=\"text-align: right;\">\n",
       "      <th></th>\n",
       "      <th>Unnamed: 0</th>\n",
       "      <th>Category</th>\n",
       "      <th>Text</th>\n",
       "    </tr>\n",
       "  </thead>\n",
       "  <tbody>\n",
       "    <tr>\n",
       "      <th>0</th>\n",
       "      <td>0</td>\n",
       "      <td>AI Engineer</td>\n",
       "      <td>Name: Eleanor Vance\\n\\nSummary:\\nHighly motiva...</td>\n",
       "    </tr>\n",
       "    <tr>\n",
       "      <th>1</th>\n",
       "      <td>1</td>\n",
       "      <td>AI Engineer</td>\n",
       "      <td>JOHN SMITH\\n(123) 456-7890 | john.smith@email....</td>\n",
       "    </tr>\n",
       "    <tr>\n",
       "      <th>2</th>\n",
       "      <td>2</td>\n",
       "      <td>AI Engineer</td>\n",
       "      <td>[Name] Anya Sharma\\n[Phone] (555) 123-4567\\n[E...</td>\n",
       "    </tr>\n",
       "    <tr>\n",
       "      <th>3</th>\n",
       "      <td>3</td>\n",
       "      <td>AI Engineer</td>\n",
       "      <td>Jane Doe\\n(123) 456-7890 | jane.doe@email.com ...</td>\n",
       "    </tr>\n",
       "    <tr>\n",
       "      <th>4</th>\n",
       "      <td>4</td>\n",
       "      <td>AI Engineer</td>\n",
       "      <td>Jane Doe\\n(123) 456-7890 | jane.doe@email.com ...</td>\n",
       "    </tr>\n",
       "  </tbody>\n",
       "</table>\n",
       "</div>"
      ],
      "text/plain": [
       "   Unnamed: 0     Category                                               Text\n",
       "0           0  AI Engineer  Name: Eleanor Vance\\n\\nSummary:\\nHighly motiva...\n",
       "1           1  AI Engineer  JOHN SMITH\\n(123) 456-7890 | john.smith@email....\n",
       "2           2  AI Engineer  [Name] Anya Sharma\\n[Phone] (555) 123-4567\\n[E...\n",
       "3           3  AI Engineer  Jane Doe\\n(123) 456-7890 | jane.doe@email.com ...\n",
       "4           4  AI Engineer  Jane Doe\\n(123) 456-7890 | jane.doe@email.com ..."
      ]
     },
     "execution_count": 16,
     "metadata": {},
     "output_type": "execute_result"
    }
   ],
   "source": [
    "df3 = pd.read_csv(r'D:\\Resume Classification System\\data\\raw\\synthetic_dataset.csv')\n",
    "df3.head()"
   ]
  },
  {
   "cell_type": "code",
   "execution_count": null,
   "id": "5e30ec08",
   "metadata": {},
   "outputs": [],
   "source": [
    "df3 = df3.drop(\"Unnamed: 0\",axis=1)"
   ]
  },
  {
   "cell_type": "code",
   "execution_count": null,
   "id": "37c3c871",
   "metadata": {},
   "outputs": [
    {
     "data": {
      "text/html": [
       "<div>\n",
       "<style scoped>\n",
       "    .dataframe tbody tr th:only-of-type {\n",
       "        vertical-align: middle;\n",
       "    }\n",
       "\n",
       "    .dataframe tbody tr th {\n",
       "        vertical-align: top;\n",
       "    }\n",
       "\n",
       "    .dataframe thead th {\n",
       "        text-align: right;\n",
       "    }\n",
       "</style>\n",
       "<table border=\"1\" class=\"dataframe\">\n",
       "  <thead>\n",
       "    <tr style=\"text-align: right;\">\n",
       "      <th></th>\n",
       "      <th>Category</th>\n",
       "      <th>Text</th>\n",
       "    </tr>\n",
       "  </thead>\n",
       "  <tbody>\n",
       "    <tr>\n",
       "      <th>0</th>\n",
       "      <td>AI Engineer</td>\n",
       "      <td>Name: Eleanor Vance\\n\\nSummary:\\nHighly motiva...</td>\n",
       "    </tr>\n",
       "    <tr>\n",
       "      <th>1</th>\n",
       "      <td>AI Engineer</td>\n",
       "      <td>JOHN SMITH\\n(123) 456-7890 | john.smith@email....</td>\n",
       "    </tr>\n",
       "    <tr>\n",
       "      <th>2</th>\n",
       "      <td>AI Engineer</td>\n",
       "      <td>[Name] Anya Sharma\\n[Phone] (555) 123-4567\\n[E...</td>\n",
       "    </tr>\n",
       "    <tr>\n",
       "      <th>3</th>\n",
       "      <td>AI Engineer</td>\n",
       "      <td>Jane Doe\\n(123) 456-7890 | jane.doe@email.com ...</td>\n",
       "    </tr>\n",
       "    <tr>\n",
       "      <th>4</th>\n",
       "      <td>AI Engineer</td>\n",
       "      <td>Jane Doe\\n(123) 456-7890 | jane.doe@email.com ...</td>\n",
       "    </tr>\n",
       "  </tbody>\n",
       "</table>\n",
       "</div>"
      ],
      "text/plain": [
       "      Category                                               Text\n",
       "0  AI Engineer  Name: Eleanor Vance\\n\\nSummary:\\nHighly motiva...\n",
       "1  AI Engineer  JOHN SMITH\\n(123) 456-7890 | john.smith@email....\n",
       "2  AI Engineer  [Name] Anya Sharma\\n[Phone] (555) 123-4567\\n[E...\n",
       "3  AI Engineer  Jane Doe\\n(123) 456-7890 | jane.doe@email.com ...\n",
       "4  AI Engineer  Jane Doe\\n(123) 456-7890 | jane.doe@email.com ..."
      ]
     },
     "execution_count": 11,
     "metadata": {},
     "output_type": "execute_result"
    }
   ],
   "source": [
    "df3.head()"
   ]
  },
  {
   "cell_type": "code",
   "execution_count": null,
   "id": "61d7d661",
   "metadata": {},
   "outputs": [
    {
     "name": "stdout",
     "output_type": "stream",
     "text": [
      "Index(['Category', 'Text'], dtype='object')\n",
      "Index(['Category', 'Text'], dtype='object')\n",
      "Index(['Category', 'Text'], dtype='object')\n"
     ]
    }
   ],
   "source": [
    "print(df1.columns)\n",
    "print(df2.columns)\n",
    "print(df3.columns)"
   ]
  },
  {
   "cell_type": "code",
   "execution_count": null,
   "id": "848dba1a",
   "metadata": {},
   "outputs": [
    {
     "name": "stdout",
     "output_type": "stream",
     "text": [
      "['Accountant' 'Advocate' 'Agriculture' 'Apparel' 'Architecture' 'Arts'\n",
      " 'Automobile' 'Aviation' 'Banking' 'Blockchain' 'BPO'\n",
      " 'Building and Construction' 'Business Analyst' 'Civil Engineer'\n",
      " 'Consultant' 'Data Scientist' 'Database' 'Designing' 'DevOps'\n",
      " 'Digital Media' 'DotNet Developer' 'Education' 'Electrical Engineering'\n",
      " 'ETL Developer' 'Finance' 'Food and Beverages' 'Health and Fitness'\n",
      " 'Human Resources' 'Information Technology' 'Java Developer' 'Management'\n",
      " 'Mechanical Engineer' 'Network Security Engineer' 'Operations Manager'\n",
      " 'PMO' 'Public Relations' 'Python Developer' 'React Developer' 'Sales'\n",
      " 'SAP Developer' 'SQL Developer' 'Testing' 'Web Designing']\n",
      "['AI Engineer' 'Data Analyst' 'Data Scientist' 'ML Engineer']\n",
      "['AI Engineer' 'Computer Vision Engineer' 'Data Analyst' 'Data Engineer'\n",
      " 'NLP Engineer']\n"
     ]
    }
   ],
   "source": [
    "print(df1['Category'].unique())\n",
    "print(df2['Category'].unique())\n",
    "print(df3['Category'].unique())"
   ]
  },
  {
   "cell_type": "code",
   "execution_count": null,
   "id": "aa9af935",
   "metadata": {},
   "outputs": [
    {
     "name": "stdout",
     "output_type": "stream",
     "text": [
      "Category    object\n",
      "Text        object\n",
      "dtype: object\n",
      "Category    object\n",
      "Text        object\n",
      "dtype: object\n",
      "Category    object\n",
      "Text        object\n",
      "dtype: object\n"
     ]
    }
   ],
   "source": [
    "print(df1.dtypes)\n",
    "print(df2.dtypes)\n",
    "print(df3.dtypes)"
   ]
  },
  {
   "cell_type": "code",
   "execution_count": null,
   "id": "6cc99305",
   "metadata": {},
   "outputs": [],
   "source": [
    "df1_shuffled = df1.sample(frac=1, random_state=42).reset_index(drop=True)\n",
    "df2_shuffled = df2.sample(frac=1, random_state=42).reset_index(drop=True)\n",
    "df3_shuffled = df3.sample(frac=1, random_state=42).reset_index(drop=True)"
   ]
  },
  {
   "cell_type": "code",
   "execution_count": null,
   "id": "486b7bcd",
   "metadata": {},
   "outputs": [],
   "source": [
    "combined_df = pd.concat([df1_shuffled, df2_shuffled, df3_shuffled], ignore_index=True)"
   ]
  },
  {
   "cell_type": "code",
   "execution_count": null,
   "id": "56dd9de6",
   "metadata": {},
   "outputs": [],
   "source": [
    "final_shuffled_df = combined_df.sample(frac=1).reset_index(drop=True)"
   ]
  },
  {
   "cell_type": "code",
   "execution_count": null,
   "id": "b64b676d",
   "metadata": {},
   "outputs": [
    {
     "data": {
      "text/html": [
       "<div>\n",
       "<style scoped>\n",
       "    .dataframe tbody tr th:only-of-type {\n",
       "        vertical-align: middle;\n",
       "    }\n",
       "\n",
       "    .dataframe tbody tr th {\n",
       "        vertical-align: top;\n",
       "    }\n",
       "\n",
       "    .dataframe thead th {\n",
       "        text-align: right;\n",
       "    }\n",
       "</style>\n",
       "<table border=\"1\" class=\"dataframe\">\n",
       "  <thead>\n",
       "    <tr style=\"text-align: right;\">\n",
       "      <th></th>\n",
       "      <th>Category</th>\n",
       "      <th>Text</th>\n",
       "    </tr>\n",
       "  </thead>\n",
       "  <tbody>\n",
       "    <tr>\n",
       "      <th>0</th>\n",
       "      <td>Designing</td>\n",
       "      <td>﻿________________\\r\\n\\r\\nJESSICA CLAIRE\\r\\nMon...</td>\n",
       "    </tr>\n",
       "    <tr>\n",
       "      <th>1</th>\n",
       "      <td>Accountant</td>\n",
       "      <td>﻿________________\\r\\n\\r\\nJESSICA CLAIRE\\r\\nMon...</td>\n",
       "    </tr>\n",
       "    <tr>\n",
       "      <th>2</th>\n",
       "      <td>SQL Developer</td>\n",
       "      <td>﻿________________\\r\\n\\r\\nJESSICA CLAIRE\\r\\n9\\r...</td>\n",
       "    </tr>\n",
       "    <tr>\n",
       "      <th>3</th>\n",
       "      <td>Operations Manager</td>\n",
       "      <td>﻿________________\\r\\n\\r\\nJESSICA CLAIRE\\r\\nres...</td>\n",
       "    </tr>\n",
       "    <tr>\n",
       "      <th>4</th>\n",
       "      <td>Finance</td>\n",
       "      <td>﻿________________\\r\\n\\r\\nJESSICA CLAIRE\\r\\n100...</td>\n",
       "    </tr>\n",
       "  </tbody>\n",
       "</table>\n",
       "</div>"
      ],
      "text/plain": [
       "             Category                                               Text\n",
       "0           Designing  ﻿________________\\r\\n\\r\\nJESSICA CLAIRE\\r\\nMon...\n",
       "1          Accountant  ﻿________________\\r\\n\\r\\nJESSICA CLAIRE\\r\\nMon...\n",
       "2       SQL Developer  ﻿________________\\r\\n\\r\\nJESSICA CLAIRE\\r\\n9\\r...\n",
       "3  Operations Manager  ﻿________________\\r\\n\\r\\nJESSICA CLAIRE\\r\\nres...\n",
       "4             Finance  ﻿________________\\r\\n\\r\\nJESSICA CLAIRE\\r\\n100..."
      ]
     },
     "execution_count": 20,
     "metadata": {},
     "output_type": "execute_result"
    }
   ],
   "source": [
    "final_shuffled_df.head()"
   ]
  },
  {
   "cell_type": "code",
   "execution_count": null,
   "id": "bc42a744",
   "metadata": {},
   "outputs": [
    {
     "ename": "NameError",
     "evalue": "name 'final_shuffled_df' is not defined",
     "output_type": "error",
     "traceback": [
      "\u001b[1;31m---------------------------------------------------------------------------\u001b[0m",
      "\u001b[1;31mNameError\u001b[0m                                 Traceback (most recent call last)",
      "Cell \u001b[1;32mIn[1], line 1\u001b[0m\n\u001b[1;32m----> 1\u001b[0m \u001b[43mfinal_shuffled_df\u001b[49m\u001b[38;5;241m.\u001b[39mtail()\n",
      "\u001b[1;31mNameError\u001b[0m: name 'final_shuffled_df' is not defined"
     ]
    }
   ],
   "source": [
    "final_shuffled_df.tail()"
   ]
  },
  {
   "cell_type": "code",
   "execution_count": null,
   "id": "ba1c3834",
   "metadata": {},
   "outputs": [],
   "source": [
    "final_shuffled_df.to_csv(r'D:\\Resume Classification System\\data\\processed\\Combined_Data.csv')"
   ]
  },
  {
   "cell_type": "code",
   "execution_count": null,
   "id": "d75f30fa",
   "metadata": {},
   "outputs": [],
   "source": []
  }
 ],
 "metadata": {
  "kernelspec": {
   "display_name": "Python 3",
   "language": "python",
   "name": "python3"
  },
  "language_info": {
   "codemirror_mode": {
    "name": "ipython",
    "version": 3
   },
   "file_extension": ".py",
   "mimetype": "text/x-python",
   "name": "python",
   "nbconvert_exporter": "python",
   "pygments_lexer": "ipython3",
   "version": "3.10.0"
  }
 },
 "nbformat": 4,
 "nbformat_minor": 5
}
