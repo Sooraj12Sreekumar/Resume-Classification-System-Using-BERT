{
 "cells": [
  {
   "cell_type": "code",
   "execution_count": 3,
   "id": "75f6cd81",
   "metadata": {},
   "outputs": [],
   "source": [
    "import pandas as pd\n",
    "import numpy as np\n",
    "import matplotlib.pyplot as plt"
   ]
  },
  {
   "cell_type": "code",
   "execution_count": 4,
   "id": "2beb8b91",
   "metadata": {},
   "outputs": [],
   "source": [
    "df = pd.read_csv(r\"D:\\Resume Classification System\\data\\raw\\Dataset.csv\")"
   ]
  },
  {
   "cell_type": "code",
   "execution_count": 5,
   "id": "89acd757",
   "metadata": {},
   "outputs": [
    {
     "data": {
      "text/html": [
       "<div>\n",
       "<style scoped>\n",
       "    .dataframe tbody tr th:only-of-type {\n",
       "        vertical-align: middle;\n",
       "    }\n",
       "\n",
       "    .dataframe tbody tr th {\n",
       "        vertical-align: top;\n",
       "    }\n",
       "\n",
       "    .dataframe thead th {\n",
       "        text-align: right;\n",
       "    }\n",
       "</style>\n",
       "<table border=\"1\" class=\"dataframe\">\n",
       "  <thead>\n",
       "    <tr style=\"text-align: right;\">\n",
       "      <th></th>\n",
       "      <th>Category</th>\n",
       "      <th>Text</th>\n",
       "    </tr>\n",
       "  </thead>\n",
       "  <tbody>\n",
       "    <tr>\n",
       "      <th>0</th>\n",
       "      <td>Accountant</td>\n",
       "      <td>﻿________________\\r\\n\\r\\nEDUCATION\\r\\nOMBA - E...</td>\n",
       "    </tr>\n",
       "    <tr>\n",
       "      <th>1</th>\n",
       "      <td>Accountant</td>\n",
       "      <td>﻿________________\\r\\n\\r\\nHOWARD GERRARD\\r\\nAcc...</td>\n",
       "    </tr>\n",
       "    <tr>\n",
       "      <th>2</th>\n",
       "      <td>Accountant</td>\n",
       "      <td>﻿________________\\r\\n\\r\\nKevin Frank\\r\\nSENIOR...</td>\n",
       "    </tr>\n",
       "    <tr>\n",
       "      <th>3</th>\n",
       "      <td>Accountant</td>\n",
       "      <td>﻿________________\\r\\n\\r\\nPlace of birth\\r\\nNat...</td>\n",
       "    </tr>\n",
       "    <tr>\n",
       "      <th>4</th>\n",
       "      <td>Accountant</td>\n",
       "      <td>﻿________________\\r\\n\\r\\nStephen Greet, CPA\\r\\...</td>\n",
       "    </tr>\n",
       "  </tbody>\n",
       "</table>\n",
       "</div>"
      ],
      "text/plain": [
       "     Category                                               Text\n",
       "0  Accountant  ﻿________________\\r\\n\\r\\nEDUCATION\\r\\nOMBA - E...\n",
       "1  Accountant  ﻿________________\\r\\n\\r\\nHOWARD GERRARD\\r\\nAcc...\n",
       "2  Accountant  ﻿________________\\r\\n\\r\\nKevin Frank\\r\\nSENIOR...\n",
       "3  Accountant  ﻿________________\\r\\n\\r\\nPlace of birth\\r\\nNat...\n",
       "4  Accountant  ﻿________________\\r\\n\\r\\nStephen Greet, CPA\\r\\..."
      ]
     },
     "execution_count": 5,
     "metadata": {},
     "output_type": "execute_result"
    }
   ],
   "source": [
    "df.head()"
   ]
  },
  {
   "cell_type": "code",
   "execution_count": 6,
   "id": "a5b415c0",
   "metadata": {},
   "outputs": [
    {
     "name": "stdout",
     "output_type": "stream",
     "text": [
      "['Accountant' 'Advocate' 'Agriculture' 'Apparel' 'Architecture' 'Arts'\n",
      " 'Automobile' 'Aviation' 'Banking' 'Blockchain' 'BPO'\n",
      " 'Building and Construction' 'Business Analyst' 'Civil Engineer'\n",
      " 'Consultant' 'Data Science' 'Database' 'Designing' 'DevOps'\n",
      " 'Digital Media' 'DotNet Developer' 'Education' 'Electrical Engineering'\n",
      " 'ETL Developer' 'Finance' 'Food and Beverages' 'Health and Fitness'\n",
      " 'Human Resources' 'Information Technology' 'Java Developer' 'Management'\n",
      " 'Mechanical Engineer' 'Network Security Engineer' 'Operations Manager'\n",
      " 'PMO' 'Public Relations' 'Python Developer' 'React Developer' 'Sales'\n",
      " 'SAP Developer' 'SQL Developer' 'Testing' 'Web Designing']\n"
     ]
    }
   ],
   "source": [
    "categories = df['Category'].unique()\n",
    "print(categories)"
   ]
  },
  {
   "cell_type": "code",
   "execution_count": 7,
   "id": "feac6e3d",
   "metadata": {},
   "outputs": [
    {
     "data": {
      "text/html": [
       "<div>\n",
       "<style scoped>\n",
       "    .dataframe tbody tr th:only-of-type {\n",
       "        vertical-align: middle;\n",
       "    }\n",
       "\n",
       "    .dataframe tbody tr th {\n",
       "        vertical-align: top;\n",
       "    }\n",
       "\n",
       "    .dataframe thead th {\n",
       "        text-align: right;\n",
       "    }\n",
       "</style>\n",
       "<table border=\"1\" class=\"dataframe\">\n",
       "  <thead>\n",
       "    <tr style=\"text-align: right;\">\n",
       "      <th></th>\n",
       "      <th>Category</th>\n",
       "      <th>Text</th>\n",
       "    </tr>\n",
       "  </thead>\n",
       "  <tbody>\n",
       "    <tr>\n",
       "      <th>13384</th>\n",
       "      <td>Web Designing</td>\n",
       "      <td>﻿________________\\r\\n\\r\\nJESSICA CLAIRE\\r\\nMon...</td>\n",
       "    </tr>\n",
       "    <tr>\n",
       "      <th>13385</th>\n",
       "      <td>Web Designing</td>\n",
       "      <td>﻿________________\\r\\n\\r\\nJESSICA CLAIRE\\r\\nMon...</td>\n",
       "    </tr>\n",
       "    <tr>\n",
       "      <th>13386</th>\n",
       "      <td>Web Designing</td>\n",
       "      <td>﻿________________\\r\\n\\r\\nSUMMARY\\r\\nJessica Cl...</td>\n",
       "    </tr>\n",
       "    <tr>\n",
       "      <th>13387</th>\n",
       "      <td>Web Designing</td>\n",
       "      <td>﻿________________\\r\\n\\r\\nJESSICA CLAIRE\\r\\nMon...</td>\n",
       "    </tr>\n",
       "    <tr>\n",
       "      <th>13388</th>\n",
       "      <td>Web Designing</td>\n",
       "      <td>﻿________________\\r\\n\\r\\nWEBSITES, PORTFOLIOS,...</td>\n",
       "    </tr>\n",
       "  </tbody>\n",
       "</table>\n",
       "</div>"
      ],
      "text/plain": [
       "            Category                                               Text\n",
       "13384  Web Designing  ﻿________________\\r\\n\\r\\nJESSICA CLAIRE\\r\\nMon...\n",
       "13385  Web Designing  ﻿________________\\r\\n\\r\\nJESSICA CLAIRE\\r\\nMon...\n",
       "13386  Web Designing  ﻿________________\\r\\n\\r\\nSUMMARY\\r\\nJessica Cl...\n",
       "13387  Web Designing  ﻿________________\\r\\n\\r\\nJESSICA CLAIRE\\r\\nMon...\n",
       "13388  Web Designing  ﻿________________\\r\\n\\r\\nWEBSITES, PORTFOLIOS,..."
      ]
     },
     "execution_count": 7,
     "metadata": {},
     "output_type": "execute_result"
    }
   ],
   "source": [
    "df.tail()"
   ]
  },
  {
   "cell_type": "code",
   "execution_count": 8,
   "id": "db8cc2b9",
   "metadata": {},
   "outputs": [
    {
     "name": "stdout",
     "output_type": "stream",
     "text": [
      "Category\n",
      "Education                    410\n",
      "Mechanical Engineer          384\n",
      "Electrical Engineering       384\n",
      "Consultant                   368\n",
      "Civil Engineer               364\n",
      "Sales                        364\n",
      "Management                   361\n",
      "Human Resources              360\n",
      "Digital Media                358\n",
      "Accountant                   350\n",
      "Java Developer               348\n",
      "Building and Construction    345\n",
      "Operations Manager           345\n",
      "Architecture                 344\n",
      "Testing                      344\n",
      "Business Analyst             340\n",
      "Aviation                     340\n",
      "Finance                      339\n",
      "SQL Developer                338\n",
      "Public Relations             337\n",
      "Health and Fitness           332\n",
      "Arts                         332\n",
      "Network Security Engineer    330\n",
      "DotNet Developer             329\n",
      "Apparel                      320\n",
      "Banking                      314\n",
      "Automobile                   313\n",
      "Web Designing                309\n",
      "SAP Developer                304\n",
      "Data Science                 299\n",
      "ETL Developer                294\n",
      "Agriculture                  293\n",
      "Advocate                     291\n",
      "DevOps                       289\n",
      "PMO                          286\n",
      "Information Technology       274\n",
      "Designing                    258\n",
      "Database                     257\n",
      "Python Developer             248\n",
      "BPO                          203\n",
      "React Developer              182\n",
      "Food and Beverages           162\n",
      "Blockchain                    47\n",
      "Name: count, dtype: int64\n"
     ]
    }
   ],
   "source": [
    "category_count = df['Category'].value_counts()\n",
    "print(category_count)"
   ]
  },
  {
   "cell_type": "code",
   "execution_count": 9,
   "id": "33d41958",
   "metadata": {},
   "outputs": [
    {
     "data": {
      "text/plain": [
       "Category    13389\n",
       "Text        13389\n",
       "dtype: int64"
      ]
     },
     "execution_count": 9,
     "metadata": {},
     "output_type": "execute_result"
    }
   ],
   "source": [
    "df.count()"
   ]
  },
  {
   "cell_type": "code",
   "execution_count": 10,
   "id": "dc35835a",
   "metadata": {},
   "outputs": [
    {
     "data": {
      "text/html": [
       "<div>\n",
       "<style scoped>\n",
       "    .dataframe tbody tr th:only-of-type {\n",
       "        vertical-align: middle;\n",
       "    }\n",
       "\n",
       "    .dataframe tbody tr th {\n",
       "        vertical-align: top;\n",
       "    }\n",
       "\n",
       "    .dataframe thead th {\n",
       "        text-align: right;\n",
       "    }\n",
       "</style>\n",
       "<table border=\"1\" class=\"dataframe\">\n",
       "  <thead>\n",
       "    <tr style=\"text-align: right;\">\n",
       "      <th></th>\n",
       "      <th>Category</th>\n",
       "      <th>Text</th>\n",
       "    </tr>\n",
       "  </thead>\n",
       "  <tbody>\n",
       "    <tr>\n",
       "      <th>0</th>\n",
       "      <td>Accountant</td>\n",
       "      <td>education omba executive leadership university...</td>\n",
       "    </tr>\n",
       "    <tr>\n",
       "      <th>1</th>\n",
       "      <td>Accountant</td>\n",
       "      <td>howard gerrard accountant deyjobcom birmingham...</td>\n",
       "    </tr>\n",
       "    <tr>\n",
       "      <th>2</th>\n",
       "      <td>Accountant</td>\n",
       "      <td>kevin frank senior accountant inforesumekraftc...</td>\n",
       "    </tr>\n",
       "    <tr>\n",
       "      <th>3</th>\n",
       "      <td>Accountant</td>\n",
       "      <td>place birth nationality olivia ogilvy accounta...</td>\n",
       "    </tr>\n",
       "    <tr>\n",
       "      <th>4</th>\n",
       "      <td>Accountant</td>\n",
       "      <td>stephen greet cpa senior accountant 9 year exp...</td>\n",
       "    </tr>\n",
       "  </tbody>\n",
       "</table>\n",
       "</div>"
      ],
      "text/plain": [
       "     Category                                               Text\n",
       "0  Accountant  education omba executive leadership university...\n",
       "1  Accountant  howard gerrard accountant deyjobcom birmingham...\n",
       "2  Accountant  kevin frank senior accountant inforesumekraftc...\n",
       "3  Accountant  place birth nationality olivia ogilvy accounta...\n",
       "4  Accountant  stephen greet cpa senior accountant 9 year exp..."
      ]
     },
     "execution_count": 10,
     "metadata": {},
     "output_type": "execute_result"
    }
   ],
   "source": [
    "p_data = pd.read_csv(r'D:\\Resume Classification System\\data\\processed\\Preprocessed_Data.csv')\n",
    "p_data.head()"
   ]
  },
  {
   "cell_type": "code",
   "execution_count": 11,
   "id": "129fe14b",
   "metadata": {},
   "outputs": [
    {
     "data": {
      "text/plain": [
       "Category    13389\n",
       "Text        13389\n",
       "dtype: int64"
      ]
     },
     "execution_count": 11,
     "metadata": {},
     "output_type": "execute_result"
    }
   ],
   "source": [
    "p_data.count()"
   ]
  },
  {
   "cell_type": "code",
   "execution_count": 12,
   "id": "98764ec0",
   "metadata": {},
   "outputs": [],
   "source": [
    "category_mapping = {\n",
    "    'Data Science' : 'Data Scientist'\n",
    "}"
   ]
  },
  {
   "cell_type": "code",
   "execution_count": 13,
   "id": "b70cee0f",
   "metadata": {},
   "outputs": [],
   "source": [
    "def clean_category(text):\n",
    "    for pattern, category in category_mapping.items():\n",
    "        if str(text).startswith(pattern):\n",
    "            return category\n",
    "    return text"
   ]
  },
  {
   "cell_type": "code",
   "execution_count": 14,
   "id": "dc7a19c9",
   "metadata": {},
   "outputs": [],
   "source": [
    "df['Category'] = df['Category'].apply(clean_category)"
   ]
  },
  {
   "cell_type": "code",
   "execution_count": 15,
   "id": "28ab7a5b",
   "metadata": {},
   "outputs": [
    {
     "data": {
      "text/plain": [
       "array(['Accountant', 'Advocate', 'Agriculture', 'Apparel', 'Architecture',\n",
       "       'Arts', 'Automobile', 'Aviation', 'Banking', 'Blockchain', 'BPO',\n",
       "       'Building and Construction', 'Business Analyst', 'Civil Engineer',\n",
       "       'Consultant', 'Data Scientist', 'Database', 'Designing', 'DevOps',\n",
       "       'Digital Media', 'DotNet Developer', 'Education',\n",
       "       'Electrical Engineering', 'ETL Developer', 'Finance',\n",
       "       'Food and Beverages', 'Health and Fitness', 'Human Resources',\n",
       "       'Information Technology', 'Java Developer', 'Management',\n",
       "       'Mechanical Engineer', 'Network Security Engineer',\n",
       "       'Operations Manager', 'PMO', 'Public Relations',\n",
       "       'Python Developer', 'React Developer', 'Sales', 'SAP Developer',\n",
       "       'SQL Developer', 'Testing', 'Web Designing'], dtype=object)"
      ]
     },
     "execution_count": 15,
     "metadata": {},
     "output_type": "execute_result"
    }
   ],
   "source": [
    "df['Category'].unique()"
   ]
  },
  {
   "cell_type": "code",
   "execution_count": 16,
   "id": "929f9243",
   "metadata": {},
   "outputs": [],
   "source": [
    "df.to_csv(r'D:\\Resume Classification System\\data\\raw\\Dataset.csv')"
   ]
  },
  {
   "cell_type": "code",
   "execution_count": null,
   "id": "81a5cb0d",
   "metadata": {},
   "outputs": [],
   "source": []
  }
 ],
 "metadata": {
  "kernelspec": {
   "display_name": "Python 3",
   "language": "python",
   "name": "python3"
  },
  "language_info": {
   "codemirror_mode": {
    "name": "ipython",
    "version": 3
   },
   "file_extension": ".py",
   "mimetype": "text/x-python",
   "name": "python",
   "nbconvert_exporter": "python",
   "pygments_lexer": "ipython3",
   "version": "3.12.6"
  }
 },
 "nbformat": 4,
 "nbformat_minor": 5
}
