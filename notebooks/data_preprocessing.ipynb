{
 "cells": [
  {
   "cell_type": "code",
   "execution_count": 1,
   "id": "4521b6b5",
   "metadata": {},
   "outputs": [],
   "source": [
    "import re\n",
    "import pandas as pd"
   ]
  },
  {
   "cell_type": "code",
   "execution_count": 2,
   "id": "28bb7082",
   "metadata": {},
   "outputs": [
    {
     "data": {
      "text/html": [
       "<div>\n",
       "<style scoped>\n",
       "    .dataframe tbody tr th:only-of-type {\n",
       "        vertical-align: middle;\n",
       "    }\n",
       "\n",
       "    .dataframe tbody tr th {\n",
       "        vertical-align: top;\n",
       "    }\n",
       "\n",
       "    .dataframe thead th {\n",
       "        text-align: right;\n",
       "    }\n",
       "</style>\n",
       "<table border=\"1\" class=\"dataframe\">\n",
       "  <thead>\n",
       "    <tr style=\"text-align: right;\">\n",
       "      <th></th>\n",
       "      <th>Unnamed: 0</th>\n",
       "      <th>Category</th>\n",
       "      <th>Text</th>\n",
       "    </tr>\n",
       "  </thead>\n",
       "  <tbody>\n",
       "    <tr>\n",
       "      <th>0</th>\n",
       "      <td>0</td>\n",
       "      <td>Designing</td>\n",
       "      <td>﻿________________\\r\\n\\r\\nJESSICA CLAIRE\\r\\nMon...</td>\n",
       "    </tr>\n",
       "    <tr>\n",
       "      <th>1</th>\n",
       "      <td>1</td>\n",
       "      <td>Accountant</td>\n",
       "      <td>﻿________________\\r\\n\\r\\nJESSICA CLAIRE\\r\\nMon...</td>\n",
       "    </tr>\n",
       "    <tr>\n",
       "      <th>2</th>\n",
       "      <td>2</td>\n",
       "      <td>SQL Developer</td>\n",
       "      <td>﻿________________\\r\\n\\r\\nJESSICA CLAIRE\\r\\n9\\r...</td>\n",
       "    </tr>\n",
       "    <tr>\n",
       "      <th>3</th>\n",
       "      <td>3</td>\n",
       "      <td>Operations Manager</td>\n",
       "      <td>﻿________________\\r\\n\\r\\nJESSICA CLAIRE\\r\\nres...</td>\n",
       "    </tr>\n",
       "    <tr>\n",
       "      <th>4</th>\n",
       "      <td>4</td>\n",
       "      <td>Finance</td>\n",
       "      <td>﻿________________\\r\\n\\r\\nJESSICA CLAIRE\\r\\n100...</td>\n",
       "    </tr>\n",
       "  </tbody>\n",
       "</table>\n",
       "</div>"
      ],
      "text/plain": [
       "   Unnamed: 0            Category  \\\n",
       "0           0           Designing   \n",
       "1           1          Accountant   \n",
       "2           2       SQL Developer   \n",
       "3           3  Operations Manager   \n",
       "4           4             Finance   \n",
       "\n",
       "                                                Text  \n",
       "0  ﻿________________\\r\\n\\r\\nJESSICA CLAIRE\\r\\nMon...  \n",
       "1  ﻿________________\\r\\n\\r\\nJESSICA CLAIRE\\r\\nMon...  \n",
       "2  ﻿________________\\r\\n\\r\\nJESSICA CLAIRE\\r\\n9\\r...  \n",
       "3  ﻿________________\\r\\n\\r\\nJESSICA CLAIRE\\r\\nres...  \n",
       "4  ﻿________________\\r\\n\\r\\nJESSICA CLAIRE\\r\\n100...  "
      ]
     },
     "execution_count": 2,
     "metadata": {},
     "output_type": "execute_result"
    }
   ],
   "source": [
    "data = pd.read_csv(r'D:\\Resume Classification System\\data\\processed\\Combined_Data.csv')\n",
    "data.head()"
   ]
  },
  {
   "cell_type": "code",
   "execution_count": 3,
   "id": "c6fd3d3c",
   "metadata": {},
   "outputs": [
    {
     "data": {
      "text/html": [
       "<div>\n",
       "<style scoped>\n",
       "    .dataframe tbody tr th:only-of-type {\n",
       "        vertical-align: middle;\n",
       "    }\n",
       "\n",
       "    .dataframe tbody tr th {\n",
       "        vertical-align: top;\n",
       "    }\n",
       "\n",
       "    .dataframe thead th {\n",
       "        text-align: right;\n",
       "    }\n",
       "</style>\n",
       "<table border=\"1\" class=\"dataframe\">\n",
       "  <thead>\n",
       "    <tr style=\"text-align: right;\">\n",
       "      <th></th>\n",
       "      <th>Unnamed: 0</th>\n",
       "      <th>Category</th>\n",
       "      <th>Text</th>\n",
       "    </tr>\n",
       "  </thead>\n",
       "  <tbody>\n",
       "    <tr>\n",
       "      <th>14030</th>\n",
       "      <td>14030</td>\n",
       "      <td>SQL Developer</td>\n",
       "      <td>﻿________________\\r\\n\\r\\nRODOLFO BOTSFORD\\r\\n6...</td>\n",
       "    </tr>\n",
       "    <tr>\n",
       "      <th>14031</th>\n",
       "      <td>14031</td>\n",
       "      <td>Information Technology</td>\n",
       "      <td>﻿________________\\r\\n\\r\\nJESSICA CLAIRE\\r\\n100...</td>\n",
       "    </tr>\n",
       "    <tr>\n",
       "      <th>14032</th>\n",
       "      <td>14032</td>\n",
       "      <td>Operations Manager</td>\n",
       "      <td>﻿________________\\r\\n\\r\\nJESSICA CLAIRE\\r\\n100...</td>\n",
       "    </tr>\n",
       "    <tr>\n",
       "      <th>14033</th>\n",
       "      <td>14033</td>\n",
       "      <td>Banking</td>\n",
       "      <td>﻿________________\\r\\n\\r\\nThomas Johnson\\r\\nInv...</td>\n",
       "    </tr>\n",
       "    <tr>\n",
       "      <th>14034</th>\n",
       "      <td>14034</td>\n",
       "      <td>Electrical Engineering</td>\n",
       "      <td>﻿________________\\r\\n\\r\\nSTONE BARROWS\\r\\n6547...</td>\n",
       "    </tr>\n",
       "  </tbody>\n",
       "</table>\n",
       "</div>"
      ],
      "text/plain": [
       "       Unnamed: 0                Category  \\\n",
       "14030       14030           SQL Developer   \n",
       "14031       14031  Information Technology   \n",
       "14032       14032      Operations Manager   \n",
       "14033       14033                 Banking   \n",
       "14034       14034  Electrical Engineering   \n",
       "\n",
       "                                                    Text  \n",
       "14030  ﻿________________\\r\\n\\r\\nRODOLFO BOTSFORD\\r\\n6...  \n",
       "14031  ﻿________________\\r\\n\\r\\nJESSICA CLAIRE\\r\\n100...  \n",
       "14032  ﻿________________\\r\\n\\r\\nJESSICA CLAIRE\\r\\n100...  \n",
       "14033  ﻿________________\\r\\n\\r\\nThomas Johnson\\r\\nInv...  \n",
       "14034  ﻿________________\\r\\n\\r\\nSTONE BARROWS\\r\\n6547...  "
      ]
     },
     "execution_count": 3,
     "metadata": {},
     "output_type": "execute_result"
    }
   ],
   "source": [
    "data.tail()"
   ]
  },
  {
   "cell_type": "code",
   "execution_count": 4,
   "id": "459f0eef",
   "metadata": {},
   "outputs": [],
   "source": [
    "data = data.drop('Unnamed: 0',axis=1)"
   ]
  },
  {
   "cell_type": "code",
   "execution_count": 5,
   "id": "7ad0dbf0",
   "metadata": {},
   "outputs": [
    {
     "data": {
      "text/html": [
       "<div>\n",
       "<style scoped>\n",
       "    .dataframe tbody tr th:only-of-type {\n",
       "        vertical-align: middle;\n",
       "    }\n",
       "\n",
       "    .dataframe tbody tr th {\n",
       "        vertical-align: top;\n",
       "    }\n",
       "\n",
       "    .dataframe thead th {\n",
       "        text-align: right;\n",
       "    }\n",
       "</style>\n",
       "<table border=\"1\" class=\"dataframe\">\n",
       "  <thead>\n",
       "    <tr style=\"text-align: right;\">\n",
       "      <th></th>\n",
       "      <th>Category</th>\n",
       "      <th>Text</th>\n",
       "    </tr>\n",
       "  </thead>\n",
       "  <tbody>\n",
       "    <tr>\n",
       "      <th>0</th>\n",
       "      <td>Designing</td>\n",
       "      <td>﻿________________\\r\\n\\r\\nJESSICA CLAIRE\\r\\nMon...</td>\n",
       "    </tr>\n",
       "    <tr>\n",
       "      <th>1</th>\n",
       "      <td>Accountant</td>\n",
       "      <td>﻿________________\\r\\n\\r\\nJESSICA CLAIRE\\r\\nMon...</td>\n",
       "    </tr>\n",
       "    <tr>\n",
       "      <th>2</th>\n",
       "      <td>SQL Developer</td>\n",
       "      <td>﻿________________\\r\\n\\r\\nJESSICA CLAIRE\\r\\n9\\r...</td>\n",
       "    </tr>\n",
       "    <tr>\n",
       "      <th>3</th>\n",
       "      <td>Operations Manager</td>\n",
       "      <td>﻿________________\\r\\n\\r\\nJESSICA CLAIRE\\r\\nres...</td>\n",
       "    </tr>\n",
       "    <tr>\n",
       "      <th>4</th>\n",
       "      <td>Finance</td>\n",
       "      <td>﻿________________\\r\\n\\r\\nJESSICA CLAIRE\\r\\n100...</td>\n",
       "    </tr>\n",
       "  </tbody>\n",
       "</table>\n",
       "</div>"
      ],
      "text/plain": [
       "             Category                                               Text\n",
       "0           Designing  ﻿________________\\r\\n\\r\\nJESSICA CLAIRE\\r\\nMon...\n",
       "1          Accountant  ﻿________________\\r\\n\\r\\nJESSICA CLAIRE\\r\\nMon...\n",
       "2       SQL Developer  ﻿________________\\r\\n\\r\\nJESSICA CLAIRE\\r\\n9\\r...\n",
       "3  Operations Manager  ﻿________________\\r\\n\\r\\nJESSICA CLAIRE\\r\\nres...\n",
       "4             Finance  ﻿________________\\r\\n\\r\\nJESSICA CLAIRE\\r\\n100..."
      ]
     },
     "execution_count": 5,
     "metadata": {},
     "output_type": "execute_result"
    }
   ],
   "source": [
    "data.head()"
   ]
  },
  {
   "cell_type": "code",
   "execution_count": 6,
   "id": "1af85368",
   "metadata": {},
   "outputs": [
    {
     "name": "stdout",
     "output_type": "stream",
     "text": [
      "<class 'pandas.core.frame.DataFrame'>\n",
      "RangeIndex: 14035 entries, 0 to 14034\n",
      "Data columns (total 2 columns):\n",
      " #   Column    Non-Null Count  Dtype \n",
      "---  ------    --------------  ----- \n",
      " 0   Category  14035 non-null  object\n",
      " 1   Text      14035 non-null  object\n",
      "dtypes: object(2)\n",
      "memory usage: 219.4+ KB\n"
     ]
    }
   ],
   "source": [
    "data.info()"
   ]
  },
  {
   "cell_type": "code",
   "execution_count": 7,
   "id": "0a1048c0",
   "metadata": {},
   "outputs": [
    {
     "data": {
      "text/plain": [
       "Category    0\n",
       "Text        0\n",
       "dtype: int64"
      ]
     },
     "execution_count": 7,
     "metadata": {},
     "output_type": "execute_result"
    }
   ],
   "source": [
    "data.isnull().sum()"
   ]
  },
  {
   "cell_type": "code",
   "execution_count": 8,
   "id": "54ed4992",
   "metadata": {},
   "outputs": [
    {
     "data": {
      "text/plain": [
       "(14035, 2)"
      ]
     },
     "execution_count": 8,
     "metadata": {},
     "output_type": "execute_result"
    }
   ],
   "source": [
    "data.shape"
   ]
  },
  {
   "cell_type": "code",
   "execution_count": 9,
   "id": "94ce5509",
   "metadata": {},
   "outputs": [],
   "source": [
    "def text_preprocess(text):\n",
    "\n",
    "    if not isinstance(text,str):\n",
    "        return \"\"\n",
    "    \n",
    "    #URLs , E mails and Phone numbers\n",
    "    text = re.sub(r'http\\S+|www\\S+|https\\S+|\\S+@\\S+', '', text)\n",
    "    text = re.sub(r'[\\+\\(]?[1-9][0-9 .\\-\\(\\)]{8,}[0-9]', '', text) \n",
    "    \n",
    "    #Underscores \n",
    "    text = re.sub(r'_\\b[A-Z][A-Za-z]+\\b \\b[A-Z][A-Za-z]+\\b', '', text)  \n",
    "    text = re.sub(r'_\\w+', '', text)  #\n",
    "    \n",
    "    #Address fragments \n",
    "    text = re.sub(r'\\b\\d+\\s+[A-Z][a-z]+\\s+\\w+\\b', '', text)\n",
    "    \n",
    "    #Whitespace and Unicode\n",
    "    text = ' '.join(text.split())\n",
    "    text = re.sub(r'[\\u200b-\\u200d\\u202a-\\u202e]', '', text)\n",
    "\n",
    "    return text.strip()"
   ]
  },
  {
   "cell_type": "code",
   "execution_count": 10,
   "id": "ffe92d54",
   "metadata": {},
   "outputs": [],
   "source": [
    "data['Cleaned_Text'] = data['Text'].apply(text_preprocess)"
   ]
  },
  {
   "cell_type": "code",
   "execution_count": 11,
   "id": "ec4471d5",
   "metadata": {},
   "outputs": [
    {
     "data": {
      "text/html": [
       "<div>\n",
       "<style scoped>\n",
       "    .dataframe tbody tr th:only-of-type {\n",
       "        vertical-align: middle;\n",
       "    }\n",
       "\n",
       "    .dataframe tbody tr th {\n",
       "        vertical-align: top;\n",
       "    }\n",
       "\n",
       "    .dataframe thead th {\n",
       "        text-align: right;\n",
       "    }\n",
       "</style>\n",
       "<table border=\"1\" class=\"dataframe\">\n",
       "  <thead>\n",
       "    <tr style=\"text-align: right;\">\n",
       "      <th></th>\n",
       "      <th>Category</th>\n",
       "      <th>Cleaned_Text</th>\n",
       "    </tr>\n",
       "  </thead>\n",
       "  <tbody>\n",
       "    <tr>\n",
       "      <th>0</th>\n",
       "      <td>Designing</td>\n",
       "      <td>﻿ JESSICA CLAIRE Montgomery Street, San Franci...</td>\n",
       "    </tr>\n",
       "    <tr>\n",
       "      <th>1</th>\n",
       "      <td>Accountant</td>\n",
       "      <td>﻿ JESSICA CLAIRE Montgomery Street, San Franci...</td>\n",
       "    </tr>\n",
       "    <tr>\n",
       "      <th>2</th>\n",
       "      <td>SQL Developer</td>\n",
       "      <td>﻿ JESSICA CLAIRE , San Francisco, CA 94105 EXP...</td>\n",
       "    </tr>\n",
       "    <tr>\n",
       "      <th>3</th>\n",
       "      <td>Operations Manager</td>\n",
       "      <td>﻿ JESSICA CLAIRE . 10th Floor PROFESSIONAL SUM...</td>\n",
       "    </tr>\n",
       "    <tr>\n",
       "      <th>4</th>\n",
       "      <td>Finance</td>\n",
       "      <td>﻿ JESSICA CLAIRE . 10th Floor ◆ SUMMARY I am a...</td>\n",
       "    </tr>\n",
       "  </tbody>\n",
       "</table>\n",
       "</div>"
      ],
      "text/plain": [
       "             Category                                       Cleaned_Text\n",
       "0           Designing  ﻿ JESSICA CLAIRE Montgomery Street, San Franci...\n",
       "1          Accountant  ﻿ JESSICA CLAIRE Montgomery Street, San Franci...\n",
       "2       SQL Developer  ﻿ JESSICA CLAIRE , San Francisco, CA 94105 EXP...\n",
       "3  Operations Manager  ﻿ JESSICA CLAIRE . 10th Floor PROFESSIONAL SUM...\n",
       "4             Finance  ﻿ JESSICA CLAIRE . 10th Floor ◆ SUMMARY I am a..."
      ]
     },
     "execution_count": 11,
     "metadata": {},
     "output_type": "execute_result"
    }
   ],
   "source": [
    "data[['Category','Cleaned_Text']].head()"
   ]
  },
  {
   "cell_type": "code",
   "execution_count": 12,
   "id": "edeaf86e",
   "metadata": {},
   "outputs": [
    {
     "data": {
      "text/html": [
       "<div>\n",
       "<style scoped>\n",
       "    .dataframe tbody tr th:only-of-type {\n",
       "        vertical-align: middle;\n",
       "    }\n",
       "\n",
       "    .dataframe tbody tr th {\n",
       "        vertical-align: top;\n",
       "    }\n",
       "\n",
       "    .dataframe thead th {\n",
       "        text-align: right;\n",
       "    }\n",
       "</style>\n",
       "<table border=\"1\" class=\"dataframe\">\n",
       "  <thead>\n",
       "    <tr style=\"text-align: right;\">\n",
       "      <th></th>\n",
       "      <th>Category</th>\n",
       "      <th>Cleaned_Text</th>\n",
       "    </tr>\n",
       "  </thead>\n",
       "  <tbody>\n",
       "    <tr>\n",
       "      <th>14030</th>\n",
       "      <td>SQL Developer</td>\n",
       "      <td>﻿ RODOLFO BOTSFORD , Los Angeles, CA • WORK EX...</td>\n",
       "    </tr>\n",
       "    <tr>\n",
       "      <th>14031</th>\n",
       "      <td>Information Technology</td>\n",
       "      <td>﻿ JESSICA CLAIRE . 10th Floor ◆ PROFESSIONAL S...</td>\n",
       "    </tr>\n",
       "    <tr>\n",
       "      <th>14032</th>\n",
       "      <td>Operations Manager</td>\n",
       "      <td>﻿ JESSICA CLAIRE . 10th Floor ◆ SUMMARY Dedica...</td>\n",
       "    </tr>\n",
       "    <tr>\n",
       "      <th>14033</th>\n",
       "      <td>Banking</td>\n",
       "      <td>﻿ Thomas Johnson Investment Banking Analyst An...</td>\n",
       "    </tr>\n",
       "    <tr>\n",
       "      <th>14034</th>\n",
       "      <td>Electrical Engineering</td>\n",
       "      <td>﻿ STONE BARROWS , Dallas, TX WORK EXPERIENCE S...</td>\n",
       "    </tr>\n",
       "  </tbody>\n",
       "</table>\n",
       "</div>"
      ],
      "text/plain": [
       "                     Category  \\\n",
       "14030           SQL Developer   \n",
       "14031  Information Technology   \n",
       "14032      Operations Manager   \n",
       "14033                 Banking   \n",
       "14034  Electrical Engineering   \n",
       "\n",
       "                                            Cleaned_Text  \n",
       "14030  ﻿ RODOLFO BOTSFORD , Los Angeles, CA • WORK EX...  \n",
       "14031  ﻿ JESSICA CLAIRE . 10th Floor ◆ PROFESSIONAL S...  \n",
       "14032  ﻿ JESSICA CLAIRE . 10th Floor ◆ SUMMARY Dedica...  \n",
       "14033  ﻿ Thomas Johnson Investment Banking Analyst An...  \n",
       "14034  ﻿ STONE BARROWS , Dallas, TX WORK EXPERIENCE S...  "
      ]
     },
     "execution_count": 12,
     "metadata": {},
     "output_type": "execute_result"
    }
   ],
   "source": [
    "data[['Category','Cleaned_Text']].tail()"
   ]
  },
  {
   "cell_type": "code",
   "execution_count": 15,
   "id": "f619a9e5",
   "metadata": {},
   "outputs": [],
   "source": [
    "data = data.drop(columns=['Text'])"
   ]
  },
  {
   "cell_type": "code",
   "execution_count": 16,
   "id": "8563f8d0",
   "metadata": {},
   "outputs": [
    {
     "data": {
      "text/html": [
       "<div>\n",
       "<style scoped>\n",
       "    .dataframe tbody tr th:only-of-type {\n",
       "        vertical-align: middle;\n",
       "    }\n",
       "\n",
       "    .dataframe tbody tr th {\n",
       "        vertical-align: top;\n",
       "    }\n",
       "\n",
       "    .dataframe thead th {\n",
       "        text-align: right;\n",
       "    }\n",
       "</style>\n",
       "<table border=\"1\" class=\"dataframe\">\n",
       "  <thead>\n",
       "    <tr style=\"text-align: right;\">\n",
       "      <th></th>\n",
       "      <th>Category</th>\n",
       "      <th>Cleaned_Text</th>\n",
       "    </tr>\n",
       "  </thead>\n",
       "  <tbody>\n",
       "    <tr>\n",
       "      <th>0</th>\n",
       "      <td>Designing</td>\n",
       "      <td>﻿ JESSICA CLAIRE Montgomery Street, San Franci...</td>\n",
       "    </tr>\n",
       "    <tr>\n",
       "      <th>1</th>\n",
       "      <td>Accountant</td>\n",
       "      <td>﻿ JESSICA CLAIRE Montgomery Street, San Franci...</td>\n",
       "    </tr>\n",
       "    <tr>\n",
       "      <th>2</th>\n",
       "      <td>SQL Developer</td>\n",
       "      <td>﻿ JESSICA CLAIRE , San Francisco, CA 94105 EXP...</td>\n",
       "    </tr>\n",
       "    <tr>\n",
       "      <th>3</th>\n",
       "      <td>Operations Manager</td>\n",
       "      <td>﻿ JESSICA CLAIRE . 10th Floor PROFESSIONAL SUM...</td>\n",
       "    </tr>\n",
       "    <tr>\n",
       "      <th>4</th>\n",
       "      <td>Finance</td>\n",
       "      <td>﻿ JESSICA CLAIRE . 10th Floor ◆ SUMMARY I am a...</td>\n",
       "    </tr>\n",
       "  </tbody>\n",
       "</table>\n",
       "</div>"
      ],
      "text/plain": [
       "             Category                                       Cleaned_Text\n",
       "0           Designing  ﻿ JESSICA CLAIRE Montgomery Street, San Franci...\n",
       "1          Accountant  ﻿ JESSICA CLAIRE Montgomery Street, San Franci...\n",
       "2       SQL Developer  ﻿ JESSICA CLAIRE , San Francisco, CA 94105 EXP...\n",
       "3  Operations Manager  ﻿ JESSICA CLAIRE . 10th Floor PROFESSIONAL SUM...\n",
       "4             Finance  ﻿ JESSICA CLAIRE . 10th Floor ◆ SUMMARY I am a..."
      ]
     },
     "execution_count": 16,
     "metadata": {},
     "output_type": "execute_result"
    }
   ],
   "source": [
    "data.head()"
   ]
  },
  {
   "cell_type": "code",
   "execution_count": 18,
   "id": "acebd82f",
   "metadata": {},
   "outputs": [
    {
     "name": "stdout",
     "output_type": "stream",
     "text": [
      "<class 'pandas.core.frame.DataFrame'>\n",
      "RangeIndex: 14035 entries, 0 to 14034\n",
      "Data columns (total 2 columns):\n",
      " #   Column        Non-Null Count  Dtype \n",
      "---  ------        --------------  ----- \n",
      " 0   Category      14035 non-null  object\n",
      " 1   Cleaned_Text  14035 non-null  object\n",
      "dtypes: object(2)\n",
      "memory usage: 219.4+ KB\n"
     ]
    }
   ],
   "source": [
    "data.info()"
   ]
  },
  {
   "cell_type": "code",
   "execution_count": 17,
   "id": "1f2ad56d",
   "metadata": {},
   "outputs": [],
   "source": [
    "data.to_csv(r'D:\\Resume Classification System\\data\\processed\\Preprocessed_Final_Data.csv',index=False)"
   ]
  }
 ],
 "metadata": {
  "kernelspec": {
   "display_name": "Python 3",
   "language": "python",
   "name": "python3"
  },
  "language_info": {
   "codemirror_mode": {
    "name": "ipython",
    "version": 3
   },
   "file_extension": ".py",
   "mimetype": "text/x-python",
   "name": "python",
   "nbconvert_exporter": "python",
   "pygments_lexer": "ipython3",
   "version": "3.10.0"
  }
 },
 "nbformat": 4,
 "nbformat_minor": 5
}
